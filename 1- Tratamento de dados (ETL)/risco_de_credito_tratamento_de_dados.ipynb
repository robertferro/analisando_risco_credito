{
  "cells": [
    {
      "cell_type": "markdown",
      "metadata": {
        "id": "DD2hvbpwbQIq"
      },
      "source": [
        "# O objetivo deste notebook é carregar o dataset sobre risco de crédito, cujo link encontra-se abaixo e tratar os dados inconsistentes, ausentes e também outliers.\n",
        "\n",
        "\n",
        "link do dataset: https://www.kaggle.com/laotse/credit-risk-dataset?select=credit_risk_dataset.csv\n",
        "\n",
        "\n",
        "## Descrição das colunas :\n",
        "\n",
        "\n",
        "person_age: idade da pesoa quando pegou o empréstimo.\n",
        "\n",
        "person_income: renda por ano.\n",
        "\n",
        "person_home_ownership: tipo de propriedade da casa.\n",
        "\n",
        "person_emp_length: quantidade de tempo em anos que a pessoa está empregada.\n",
        "\n",
        "loan_intent: objetivo do emprestimo.\n",
        "\n",
        "loan_grade: é um sistema de classificação que envolve a atribuição de uma pontuação de qualidade a um empréstimo com base no histórico de crédito do mutuário, qualidade da caução e probabilidade de reembolso do principal e juros.\n",
        "\n",
        "loan_amnt:valor do empréstimo.\n",
        "\n",
        "loan_int_rate: o juros pago pelo empréstimo.\n",
        "\n",
        "loan_status: status de risco do empréstimo.\n",
        "\n",
        "loan_percent_income: relação entre o valor do empréstimo e a receita anual.\n",
        "\n",
        "cb_person_default_on_file: histórico de inadimplência.\n",
        "\n",
        "cb_person_cred_hist_length: representa o número de anos de história pessoal desde o primeiro empréstimo tomado por uma pessoa."
      ]
    },
    {
      "cell_type": "markdown",
      "source": [
        "# Transformando dados"
      ],
      "metadata": {
        "id": "cwiC7ysqthwP"
      }
    },
    {
      "cell_type": "markdown",
      "source": [
        "- Carregando as biblitotecas"
      ],
      "metadata": {
        "id": "GnYBXSnncKGf"
      }
    },
    {
      "cell_type": "code",
      "execution_count": 1,
      "metadata": {
        "id": "lUbzxw6mbQIx"
      },
      "outputs": [],
      "source": [
        "import pandas as pd\n",
        "import numpy as np\n",
        "import matplotlib.pyplot as plt\n",
        "import seaborn as sns"
      ]
    },
    {
      "cell_type": "code",
      "execution_count": 2,
      "metadata": {
        "id": "Stny7ERibQIz"
      },
      "outputs": [],
      "source": [
        "#  carregando os dados \n",
        "url = 'https://raw.githubusercontent.com/robertferro/analisando_risco_credito/main/1-%20Tratamento%20de%20dados%20(ETL)/credit_risk_dataset.csv'\n",
        "df = pd.read_csv(url)"
      ]
    },
    {
      "cell_type": "code",
      "execution_count": 3,
      "metadata": {
        "colab": {
          "base_uri": "https://localhost:8080/",
          "height": 270
        },
        "id": "5jQErcOabQI0",
        "outputId": "7bf96467-1246-4c3d-dc4c-a7a8d0556b20"
      },
      "outputs": [
        {
          "output_type": "execute_result",
          "data": {
            "text/html": [
              "\n",
              "  <div id=\"df-45bb0f09-8ec6-4a11-957f-536a7a91c970\">\n",
              "    <div class=\"colab-df-container\">\n",
              "      <div>\n",
              "<style scoped>\n",
              "    .dataframe tbody tr th:only-of-type {\n",
              "        vertical-align: middle;\n",
              "    }\n",
              "\n",
              "    .dataframe tbody tr th {\n",
              "        vertical-align: top;\n",
              "    }\n",
              "\n",
              "    .dataframe thead th {\n",
              "        text-align: right;\n",
              "    }\n",
              "</style>\n",
              "<table border=\"1\" class=\"dataframe\">\n",
              "  <thead>\n",
              "    <tr style=\"text-align: right;\">\n",
              "      <th></th>\n",
              "      <th>person_age</th>\n",
              "      <th>person_income</th>\n",
              "      <th>person_home_ownership</th>\n",
              "      <th>person_emp_length</th>\n",
              "      <th>loan_intent</th>\n",
              "      <th>loan_grade</th>\n",
              "      <th>loan_amnt</th>\n",
              "      <th>loan_int_rate</th>\n",
              "      <th>loan_status</th>\n",
              "      <th>loan_percent_income</th>\n",
              "      <th>cb_person_default_on_file</th>\n",
              "      <th>cb_person_cred_hist_length</th>\n",
              "    </tr>\n",
              "  </thead>\n",
              "  <tbody>\n",
              "    <tr>\n",
              "      <th>0</th>\n",
              "      <td>22</td>\n",
              "      <td>59000</td>\n",
              "      <td>RENT</td>\n",
              "      <td>123.0</td>\n",
              "      <td>PERSONAL</td>\n",
              "      <td>D</td>\n",
              "      <td>35000</td>\n",
              "      <td>16.02</td>\n",
              "      <td>1</td>\n",
              "      <td>0.59</td>\n",
              "      <td>Y</td>\n",
              "      <td>3</td>\n",
              "    </tr>\n",
              "    <tr>\n",
              "      <th>1</th>\n",
              "      <td>21</td>\n",
              "      <td>9600</td>\n",
              "      <td>OWN</td>\n",
              "      <td>5.0</td>\n",
              "      <td>EDUCATION</td>\n",
              "      <td>B</td>\n",
              "      <td>1000</td>\n",
              "      <td>11.14</td>\n",
              "      <td>0</td>\n",
              "      <td>0.10</td>\n",
              "      <td>N</td>\n",
              "      <td>2</td>\n",
              "    </tr>\n",
              "    <tr>\n",
              "      <th>2</th>\n",
              "      <td>25</td>\n",
              "      <td>9600</td>\n",
              "      <td>MORTGAGE</td>\n",
              "      <td>1.0</td>\n",
              "      <td>MEDICAL</td>\n",
              "      <td>C</td>\n",
              "      <td>5500</td>\n",
              "      <td>12.87</td>\n",
              "      <td>1</td>\n",
              "      <td>0.57</td>\n",
              "      <td>N</td>\n",
              "      <td>3</td>\n",
              "    </tr>\n",
              "    <tr>\n",
              "      <th>3</th>\n",
              "      <td>23</td>\n",
              "      <td>65500</td>\n",
              "      <td>RENT</td>\n",
              "      <td>4.0</td>\n",
              "      <td>MEDICAL</td>\n",
              "      <td>C</td>\n",
              "      <td>35000</td>\n",
              "      <td>15.23</td>\n",
              "      <td>1</td>\n",
              "      <td>0.53</td>\n",
              "      <td>N</td>\n",
              "      <td>2</td>\n",
              "    </tr>\n",
              "    <tr>\n",
              "      <th>4</th>\n",
              "      <td>24</td>\n",
              "      <td>54400</td>\n",
              "      <td>RENT</td>\n",
              "      <td>8.0</td>\n",
              "      <td>MEDICAL</td>\n",
              "      <td>C</td>\n",
              "      <td>35000</td>\n",
              "      <td>14.27</td>\n",
              "      <td>1</td>\n",
              "      <td>0.55</td>\n",
              "      <td>Y</td>\n",
              "      <td>4</td>\n",
              "    </tr>\n",
              "  </tbody>\n",
              "</table>\n",
              "</div>\n",
              "      <button class=\"colab-df-convert\" onclick=\"convertToInteractive('df-45bb0f09-8ec6-4a11-957f-536a7a91c970')\"\n",
              "              title=\"Convert this dataframe to an interactive table.\"\n",
              "              style=\"display:none;\">\n",
              "        \n",
              "  <svg xmlns=\"http://www.w3.org/2000/svg\" height=\"24px\"viewBox=\"0 0 24 24\"\n",
              "       width=\"24px\">\n",
              "    <path d=\"M0 0h24v24H0V0z\" fill=\"none\"/>\n",
              "    <path d=\"M18.56 5.44l.94 2.06.94-2.06 2.06-.94-2.06-.94-.94-2.06-.94 2.06-2.06.94zm-11 1L8.5 8.5l.94-2.06 2.06-.94-2.06-.94L8.5 2.5l-.94 2.06-2.06.94zm10 10l.94 2.06.94-2.06 2.06-.94-2.06-.94-.94-2.06-.94 2.06-2.06.94z\"/><path d=\"M17.41 7.96l-1.37-1.37c-.4-.4-.92-.59-1.43-.59-.52 0-1.04.2-1.43.59L10.3 9.45l-7.72 7.72c-.78.78-.78 2.05 0 2.83L4 21.41c.39.39.9.59 1.41.59.51 0 1.02-.2 1.41-.59l7.78-7.78 2.81-2.81c.8-.78.8-2.07 0-2.86zM5.41 20L4 18.59l7.72-7.72 1.47 1.35L5.41 20z\"/>\n",
              "  </svg>\n",
              "      </button>\n",
              "      \n",
              "  <style>\n",
              "    .colab-df-container {\n",
              "      display:flex;\n",
              "      flex-wrap:wrap;\n",
              "      gap: 12px;\n",
              "    }\n",
              "\n",
              "    .colab-df-convert {\n",
              "      background-color: #E8F0FE;\n",
              "      border: none;\n",
              "      border-radius: 50%;\n",
              "      cursor: pointer;\n",
              "      display: none;\n",
              "      fill: #1967D2;\n",
              "      height: 32px;\n",
              "      padding: 0 0 0 0;\n",
              "      width: 32px;\n",
              "    }\n",
              "\n",
              "    .colab-df-convert:hover {\n",
              "      background-color: #E2EBFA;\n",
              "      box-shadow: 0px 1px 2px rgba(60, 64, 67, 0.3), 0px 1px 3px 1px rgba(60, 64, 67, 0.15);\n",
              "      fill: #174EA6;\n",
              "    }\n",
              "\n",
              "    [theme=dark] .colab-df-convert {\n",
              "      background-color: #3B4455;\n",
              "      fill: #D2E3FC;\n",
              "    }\n",
              "\n",
              "    [theme=dark] .colab-df-convert:hover {\n",
              "      background-color: #434B5C;\n",
              "      box-shadow: 0px 1px 3px 1px rgba(0, 0, 0, 0.15);\n",
              "      filter: drop-shadow(0px 1px 2px rgba(0, 0, 0, 0.3));\n",
              "      fill: #FFFFFF;\n",
              "    }\n",
              "  </style>\n",
              "\n",
              "      <script>\n",
              "        const buttonEl =\n",
              "          document.querySelector('#df-45bb0f09-8ec6-4a11-957f-536a7a91c970 button.colab-df-convert');\n",
              "        buttonEl.style.display =\n",
              "          google.colab.kernel.accessAllowed ? 'block' : 'none';\n",
              "\n",
              "        async function convertToInteractive(key) {\n",
              "          const element = document.querySelector('#df-45bb0f09-8ec6-4a11-957f-536a7a91c970');\n",
              "          const dataTable =\n",
              "            await google.colab.kernel.invokeFunction('convertToInteractive',\n",
              "                                                     [key], {});\n",
              "          if (!dataTable) return;\n",
              "\n",
              "          const docLinkHtml = 'Like what you see? Visit the ' +\n",
              "            '<a target=\"_blank\" href=https://colab.research.google.com/notebooks/data_table.ipynb>data table notebook</a>'\n",
              "            + ' to learn more about interactive tables.';\n",
              "          element.innerHTML = '';\n",
              "          dataTable['output_type'] = 'display_data';\n",
              "          await google.colab.output.renderOutput(dataTable, element);\n",
              "          const docLink = document.createElement('div');\n",
              "          docLink.innerHTML = docLinkHtml;\n",
              "          element.appendChild(docLink);\n",
              "        }\n",
              "      </script>\n",
              "    </div>\n",
              "  </div>\n",
              "  "
            ],
            "text/plain": [
              "   person_age  ...  cb_person_cred_hist_length\n",
              "0          22  ...                           3\n",
              "1          21  ...                           2\n",
              "2          25  ...                           3\n",
              "3          23  ...                           2\n",
              "4          24  ...                           4\n",
              "\n",
              "[5 rows x 12 columns]"
            ]
          },
          "metadata": {},
          "execution_count": 3
        }
      ],
      "source": [
        "df.head()"
      ]
    },
    {
      "cell_type": "markdown",
      "source": [
        "- Como pode ser observado, o dataset trás informações referentes as operações de crédito, tais como idade de quem solicitou empréstimo, renda, motivo do empréstimo, quantidade de anos que a pessoa está empregada, se possui histórico de inadimplência, taxa de juros aplicada, valor do crédito e se o emprestimo é considerado de risco ou não.\n",
        "\n",
        "- Abaixo será relizado duas transformações no dataset, sendo elas: renomear e reoordenar as colunas, para facilitar o trabalhos com os dados.\n"
      ],
      "metadata": {
        "id": "ewHxzYD4cSzs"
      }
    },
    {
      "cell_type": "code",
      "execution_count": 4,
      "metadata": {
        "colab": {
          "base_uri": "https://localhost:8080/",
          "height": 270
        },
        "id": "vTHHRE-6bQI2",
        "outputId": "525b9a10-5a1a-4768-9c0b-7be1fb107ab7"
      },
      "outputs": [
        {
          "output_type": "execute_result",
          "data": {
            "text/html": [
              "\n",
              "  <div id=\"df-2ee6d198-b4ab-4d7e-8acf-fd85200f6302\">\n",
              "    <div class=\"colab-df-container\">\n",
              "      <div>\n",
              "<style scoped>\n",
              "    .dataframe tbody tr th:only-of-type {\n",
              "        vertical-align: middle;\n",
              "    }\n",
              "\n",
              "    .dataframe tbody tr th {\n",
              "        vertical-align: top;\n",
              "    }\n",
              "\n",
              "    .dataframe thead th {\n",
              "        text-align: right;\n",
              "    }\n",
              "</style>\n",
              "<table border=\"1\" class=\"dataframe\">\n",
              "  <thead>\n",
              "    <tr style=\"text-align: right;\">\n",
              "      <th></th>\n",
              "      <th>idade</th>\n",
              "      <th>tempo_de_emprego</th>\n",
              "      <th>tipo_moradia</th>\n",
              "      <th>objetivo_emprestimo</th>\n",
              "      <th>montante_emprestimo</th>\n",
              "      <th>taxa_juros</th>\n",
              "      <th>renda_por_ano</th>\n",
              "      <th>porc_empr_renda_anual</th>\n",
              "      <th>class_risco_historico</th>\n",
              "      <th>inadimplencia_hist</th>\n",
              "      <th>qtd_anos_primeiro_emprestimo</th>\n",
              "      <th>risco_emprestimo</th>\n",
              "    </tr>\n",
              "  </thead>\n",
              "  <tbody>\n",
              "    <tr>\n",
              "      <th>0</th>\n",
              "      <td>22</td>\n",
              "      <td>123.0</td>\n",
              "      <td>RENT</td>\n",
              "      <td>PERSONAL</td>\n",
              "      <td>35000</td>\n",
              "      <td>16.02</td>\n",
              "      <td>59000</td>\n",
              "      <td>0.59</td>\n",
              "      <td>D</td>\n",
              "      <td>Y</td>\n",
              "      <td>3</td>\n",
              "      <td>1</td>\n",
              "    </tr>\n",
              "    <tr>\n",
              "      <th>1</th>\n",
              "      <td>21</td>\n",
              "      <td>5.0</td>\n",
              "      <td>OWN</td>\n",
              "      <td>EDUCATION</td>\n",
              "      <td>1000</td>\n",
              "      <td>11.14</td>\n",
              "      <td>9600</td>\n",
              "      <td>0.10</td>\n",
              "      <td>B</td>\n",
              "      <td>N</td>\n",
              "      <td>2</td>\n",
              "      <td>0</td>\n",
              "    </tr>\n",
              "    <tr>\n",
              "      <th>2</th>\n",
              "      <td>25</td>\n",
              "      <td>1.0</td>\n",
              "      <td>MORTGAGE</td>\n",
              "      <td>MEDICAL</td>\n",
              "      <td>5500</td>\n",
              "      <td>12.87</td>\n",
              "      <td>9600</td>\n",
              "      <td>0.57</td>\n",
              "      <td>C</td>\n",
              "      <td>N</td>\n",
              "      <td>3</td>\n",
              "      <td>1</td>\n",
              "    </tr>\n",
              "    <tr>\n",
              "      <th>3</th>\n",
              "      <td>23</td>\n",
              "      <td>4.0</td>\n",
              "      <td>RENT</td>\n",
              "      <td>MEDICAL</td>\n",
              "      <td>35000</td>\n",
              "      <td>15.23</td>\n",
              "      <td>65500</td>\n",
              "      <td>0.53</td>\n",
              "      <td>C</td>\n",
              "      <td>N</td>\n",
              "      <td>2</td>\n",
              "      <td>1</td>\n",
              "    </tr>\n",
              "    <tr>\n",
              "      <th>4</th>\n",
              "      <td>24</td>\n",
              "      <td>8.0</td>\n",
              "      <td>RENT</td>\n",
              "      <td>MEDICAL</td>\n",
              "      <td>35000</td>\n",
              "      <td>14.27</td>\n",
              "      <td>54400</td>\n",
              "      <td>0.55</td>\n",
              "      <td>C</td>\n",
              "      <td>Y</td>\n",
              "      <td>4</td>\n",
              "      <td>1</td>\n",
              "    </tr>\n",
              "  </tbody>\n",
              "</table>\n",
              "</div>\n",
              "      <button class=\"colab-df-convert\" onclick=\"convertToInteractive('df-2ee6d198-b4ab-4d7e-8acf-fd85200f6302')\"\n",
              "              title=\"Convert this dataframe to an interactive table.\"\n",
              "              style=\"display:none;\">\n",
              "        \n",
              "  <svg xmlns=\"http://www.w3.org/2000/svg\" height=\"24px\"viewBox=\"0 0 24 24\"\n",
              "       width=\"24px\">\n",
              "    <path d=\"M0 0h24v24H0V0z\" fill=\"none\"/>\n",
              "    <path d=\"M18.56 5.44l.94 2.06.94-2.06 2.06-.94-2.06-.94-.94-2.06-.94 2.06-2.06.94zm-11 1L8.5 8.5l.94-2.06 2.06-.94-2.06-.94L8.5 2.5l-.94 2.06-2.06.94zm10 10l.94 2.06.94-2.06 2.06-.94-2.06-.94-.94-2.06-.94 2.06-2.06.94z\"/><path d=\"M17.41 7.96l-1.37-1.37c-.4-.4-.92-.59-1.43-.59-.52 0-1.04.2-1.43.59L10.3 9.45l-7.72 7.72c-.78.78-.78 2.05 0 2.83L4 21.41c.39.39.9.59 1.41.59.51 0 1.02-.2 1.41-.59l7.78-7.78 2.81-2.81c.8-.78.8-2.07 0-2.86zM5.41 20L4 18.59l7.72-7.72 1.47 1.35L5.41 20z\"/>\n",
              "  </svg>\n",
              "      </button>\n",
              "      \n",
              "  <style>\n",
              "    .colab-df-container {\n",
              "      display:flex;\n",
              "      flex-wrap:wrap;\n",
              "      gap: 12px;\n",
              "    }\n",
              "\n",
              "    .colab-df-convert {\n",
              "      background-color: #E8F0FE;\n",
              "      border: none;\n",
              "      border-radius: 50%;\n",
              "      cursor: pointer;\n",
              "      display: none;\n",
              "      fill: #1967D2;\n",
              "      height: 32px;\n",
              "      padding: 0 0 0 0;\n",
              "      width: 32px;\n",
              "    }\n",
              "\n",
              "    .colab-df-convert:hover {\n",
              "      background-color: #E2EBFA;\n",
              "      box-shadow: 0px 1px 2px rgba(60, 64, 67, 0.3), 0px 1px 3px 1px rgba(60, 64, 67, 0.15);\n",
              "      fill: #174EA6;\n",
              "    }\n",
              "\n",
              "    [theme=dark] .colab-df-convert {\n",
              "      background-color: #3B4455;\n",
              "      fill: #D2E3FC;\n",
              "    }\n",
              "\n",
              "    [theme=dark] .colab-df-convert:hover {\n",
              "      background-color: #434B5C;\n",
              "      box-shadow: 0px 1px 3px 1px rgba(0, 0, 0, 0.15);\n",
              "      filter: drop-shadow(0px 1px 2px rgba(0, 0, 0, 0.3));\n",
              "      fill: #FFFFFF;\n",
              "    }\n",
              "  </style>\n",
              "\n",
              "      <script>\n",
              "        const buttonEl =\n",
              "          document.querySelector('#df-2ee6d198-b4ab-4d7e-8acf-fd85200f6302 button.colab-df-convert');\n",
              "        buttonEl.style.display =\n",
              "          google.colab.kernel.accessAllowed ? 'block' : 'none';\n",
              "\n",
              "        async function convertToInteractive(key) {\n",
              "          const element = document.querySelector('#df-2ee6d198-b4ab-4d7e-8acf-fd85200f6302');\n",
              "          const dataTable =\n",
              "            await google.colab.kernel.invokeFunction('convertToInteractive',\n",
              "                                                     [key], {});\n",
              "          if (!dataTable) return;\n",
              "\n",
              "          const docLinkHtml = 'Like what you see? Visit the ' +\n",
              "            '<a target=\"_blank\" href=https://colab.research.google.com/notebooks/data_table.ipynb>data table notebook</a>'\n",
              "            + ' to learn more about interactive tables.';\n",
              "          element.innerHTML = '';\n",
              "          dataTable['output_type'] = 'display_data';\n",
              "          await google.colab.output.renderOutput(dataTable, element);\n",
              "          const docLink = document.createElement('div');\n",
              "          docLink.innerHTML = docLinkHtml;\n",
              "          element.appendChild(docLink);\n",
              "        }\n",
              "      </script>\n",
              "    </div>\n",
              "  </div>\n",
              "  "
            ],
            "text/plain": [
              "   idade  tempo_de_emprego  ... qtd_anos_primeiro_emprestimo risco_emprestimo\n",
              "0     22             123.0  ...                            3                1\n",
              "1     21               5.0  ...                            2                0\n",
              "2     25               1.0  ...                            3                1\n",
              "3     23               4.0  ...                            2                1\n",
              "4     24               8.0  ...                            4                1\n",
              "\n",
              "[5 rows x 12 columns]"
            ]
          },
          "metadata": {},
          "execution_count": 4
        }
      ],
      "source": [
        "# renomeando as colunas\n",
        "df.columns = [ 'idade','renda_por_ano','tipo_moradia','tempo_de_emprego','objetivo_emprestimo',\n",
        "               'class_risco_historico','montante_emprestimo','taxa_juros','risco_emprestimo',\n",
        "               'porc_empr_renda_anual','inadimplencia_hist','qtd_anos_primeiro_emprestimo']\n",
        "\n",
        "#  reoordenando as colunas\n",
        "df = df[['idade','tempo_de_emprego','tipo_moradia',\n",
        "         'objetivo_emprestimo','montante_emprestimo','taxa_juros',\n",
        "         'renda_por_ano','porc_empr_renda_anual','class_risco_historico','inadimplencia_hist',\n",
        "         'qtd_anos_primeiro_emprestimo','risco_emprestimo']]\n",
        "\n",
        "# exibindo o dataset após as transformações\n",
        "df.head()"
      ]
    },
    {
      "cell_type": "markdown",
      "source": [
        "- Tratando os dados das colunas **objetivo_emprestimo**,**tipo_moradia** e **inadimplencia_hist**\n",
        "\n",
        "Os dados das 2 primeiras colunas citadas acima serão traduzidos criado um dicionário e aplicando a função map, para que as colunas agora passem a ter os valores especificados no dicionário, esta transformação é necessária para melhor compreensão dos dados.\n",
        " \n",
        "\n",
        " \n",
        " Já os dados da coluna inadimplencia_hist, irei utilizar a função apply e lambda para alterar os valores de correspondentes a \"Y\" que corresponde a sim como sendo igual a 1, e os valores correspondentes a \"N\" serão alterados para 0, uma transformação que será útil quando for modelar os dados."
      ],
      "metadata": {
        "id": "TXDvqjNntxVX"
      }
    },
    {
      "cell_type": "code",
      "source": [
        "objetivo = {'EDUCATION': \"educacao\", 'MEDICAL': \"saude\", 'VENTURE': \"risco\", \n",
        "            'PERSONAL': \"pessoal\", 'DEBTCONSOLIDATION': \"consolidacao_debito\" ,'HOMEIMPROVEMENT':'reformar_casa'}\n",
        "df['objetivo_emprestimo'] = df['objetivo_emprestimo'].map(objetivo)\n",
        "\n",
        "\n",
        "tipo_moradia = {'RENT': 'alugada', 'MORTGAGE': 'hipoteca', 'OWN': 'propria', 'OTHER': 'outro'  }\n",
        "df['tipo_moradia'] = df['tipo_moradia'].map(tipo_moradia)\n",
        "\n",
        "\n",
        "df['inadimplencia_hist'] = df['inadimplencia_hist'].apply(lambda x:  1 if x =='Y' else 0)"
      ],
      "metadata": {
        "id": "vZoPcCDvua2Q"
      },
      "execution_count": 5,
      "outputs": []
    },
    {
      "cell_type": "code",
      "source": [
        "df.head()"
      ],
      "metadata": {
        "colab": {
          "base_uri": "https://localhost:8080/",
          "height": 270
        },
        "id": "y7mFsFjZuhQ_",
        "outputId": "d80592c8-40d0-4dcc-82bb-38420014c61a"
      },
      "execution_count": 6,
      "outputs": [
        {
          "output_type": "execute_result",
          "data": {
            "text/html": [
              "\n",
              "  <div id=\"df-663d29fa-ee94-440a-bb96-9280647f3524\">\n",
              "    <div class=\"colab-df-container\">\n",
              "      <div>\n",
              "<style scoped>\n",
              "    .dataframe tbody tr th:only-of-type {\n",
              "        vertical-align: middle;\n",
              "    }\n",
              "\n",
              "    .dataframe tbody tr th {\n",
              "        vertical-align: top;\n",
              "    }\n",
              "\n",
              "    .dataframe thead th {\n",
              "        text-align: right;\n",
              "    }\n",
              "</style>\n",
              "<table border=\"1\" class=\"dataframe\">\n",
              "  <thead>\n",
              "    <tr style=\"text-align: right;\">\n",
              "      <th></th>\n",
              "      <th>idade</th>\n",
              "      <th>tempo_de_emprego</th>\n",
              "      <th>tipo_moradia</th>\n",
              "      <th>objetivo_emprestimo</th>\n",
              "      <th>montante_emprestimo</th>\n",
              "      <th>taxa_juros</th>\n",
              "      <th>renda_por_ano</th>\n",
              "      <th>porc_empr_renda_anual</th>\n",
              "      <th>class_risco_historico</th>\n",
              "      <th>inadimplencia_hist</th>\n",
              "      <th>qtd_anos_primeiro_emprestimo</th>\n",
              "      <th>risco_emprestimo</th>\n",
              "    </tr>\n",
              "  </thead>\n",
              "  <tbody>\n",
              "    <tr>\n",
              "      <th>0</th>\n",
              "      <td>22</td>\n",
              "      <td>123.0</td>\n",
              "      <td>alugada</td>\n",
              "      <td>pessoal</td>\n",
              "      <td>35000</td>\n",
              "      <td>16.02</td>\n",
              "      <td>59000</td>\n",
              "      <td>0.59</td>\n",
              "      <td>D</td>\n",
              "      <td>1</td>\n",
              "      <td>3</td>\n",
              "      <td>1</td>\n",
              "    </tr>\n",
              "    <tr>\n",
              "      <th>1</th>\n",
              "      <td>21</td>\n",
              "      <td>5.0</td>\n",
              "      <td>propria</td>\n",
              "      <td>educacao</td>\n",
              "      <td>1000</td>\n",
              "      <td>11.14</td>\n",
              "      <td>9600</td>\n",
              "      <td>0.10</td>\n",
              "      <td>B</td>\n",
              "      <td>0</td>\n",
              "      <td>2</td>\n",
              "      <td>0</td>\n",
              "    </tr>\n",
              "    <tr>\n",
              "      <th>2</th>\n",
              "      <td>25</td>\n",
              "      <td>1.0</td>\n",
              "      <td>hipoteca</td>\n",
              "      <td>saude</td>\n",
              "      <td>5500</td>\n",
              "      <td>12.87</td>\n",
              "      <td>9600</td>\n",
              "      <td>0.57</td>\n",
              "      <td>C</td>\n",
              "      <td>0</td>\n",
              "      <td>3</td>\n",
              "      <td>1</td>\n",
              "    </tr>\n",
              "    <tr>\n",
              "      <th>3</th>\n",
              "      <td>23</td>\n",
              "      <td>4.0</td>\n",
              "      <td>alugada</td>\n",
              "      <td>saude</td>\n",
              "      <td>35000</td>\n",
              "      <td>15.23</td>\n",
              "      <td>65500</td>\n",
              "      <td>0.53</td>\n",
              "      <td>C</td>\n",
              "      <td>0</td>\n",
              "      <td>2</td>\n",
              "      <td>1</td>\n",
              "    </tr>\n",
              "    <tr>\n",
              "      <th>4</th>\n",
              "      <td>24</td>\n",
              "      <td>8.0</td>\n",
              "      <td>alugada</td>\n",
              "      <td>saude</td>\n",
              "      <td>35000</td>\n",
              "      <td>14.27</td>\n",
              "      <td>54400</td>\n",
              "      <td>0.55</td>\n",
              "      <td>C</td>\n",
              "      <td>1</td>\n",
              "      <td>4</td>\n",
              "      <td>1</td>\n",
              "    </tr>\n",
              "  </tbody>\n",
              "</table>\n",
              "</div>\n",
              "      <button class=\"colab-df-convert\" onclick=\"convertToInteractive('df-663d29fa-ee94-440a-bb96-9280647f3524')\"\n",
              "              title=\"Convert this dataframe to an interactive table.\"\n",
              "              style=\"display:none;\">\n",
              "        \n",
              "  <svg xmlns=\"http://www.w3.org/2000/svg\" height=\"24px\"viewBox=\"0 0 24 24\"\n",
              "       width=\"24px\">\n",
              "    <path d=\"M0 0h24v24H0V0z\" fill=\"none\"/>\n",
              "    <path d=\"M18.56 5.44l.94 2.06.94-2.06 2.06-.94-2.06-.94-.94-2.06-.94 2.06-2.06.94zm-11 1L8.5 8.5l.94-2.06 2.06-.94-2.06-.94L8.5 2.5l-.94 2.06-2.06.94zm10 10l.94 2.06.94-2.06 2.06-.94-2.06-.94-.94-2.06-.94 2.06-2.06.94z\"/><path d=\"M17.41 7.96l-1.37-1.37c-.4-.4-.92-.59-1.43-.59-.52 0-1.04.2-1.43.59L10.3 9.45l-7.72 7.72c-.78.78-.78 2.05 0 2.83L4 21.41c.39.39.9.59 1.41.59.51 0 1.02-.2 1.41-.59l7.78-7.78 2.81-2.81c.8-.78.8-2.07 0-2.86zM5.41 20L4 18.59l7.72-7.72 1.47 1.35L5.41 20z\"/>\n",
              "  </svg>\n",
              "      </button>\n",
              "      \n",
              "  <style>\n",
              "    .colab-df-container {\n",
              "      display:flex;\n",
              "      flex-wrap:wrap;\n",
              "      gap: 12px;\n",
              "    }\n",
              "\n",
              "    .colab-df-convert {\n",
              "      background-color: #E8F0FE;\n",
              "      border: none;\n",
              "      border-radius: 50%;\n",
              "      cursor: pointer;\n",
              "      display: none;\n",
              "      fill: #1967D2;\n",
              "      height: 32px;\n",
              "      padding: 0 0 0 0;\n",
              "      width: 32px;\n",
              "    }\n",
              "\n",
              "    .colab-df-convert:hover {\n",
              "      background-color: #E2EBFA;\n",
              "      box-shadow: 0px 1px 2px rgba(60, 64, 67, 0.3), 0px 1px 3px 1px rgba(60, 64, 67, 0.15);\n",
              "      fill: #174EA6;\n",
              "    }\n",
              "\n",
              "    [theme=dark] .colab-df-convert {\n",
              "      background-color: #3B4455;\n",
              "      fill: #D2E3FC;\n",
              "    }\n",
              "\n",
              "    [theme=dark] .colab-df-convert:hover {\n",
              "      background-color: #434B5C;\n",
              "      box-shadow: 0px 1px 3px 1px rgba(0, 0, 0, 0.15);\n",
              "      filter: drop-shadow(0px 1px 2px rgba(0, 0, 0, 0.3));\n",
              "      fill: #FFFFFF;\n",
              "    }\n",
              "  </style>\n",
              "\n",
              "      <script>\n",
              "        const buttonEl =\n",
              "          document.querySelector('#df-663d29fa-ee94-440a-bb96-9280647f3524 button.colab-df-convert');\n",
              "        buttonEl.style.display =\n",
              "          google.colab.kernel.accessAllowed ? 'block' : 'none';\n",
              "\n",
              "        async function convertToInteractive(key) {\n",
              "          const element = document.querySelector('#df-663d29fa-ee94-440a-bb96-9280647f3524');\n",
              "          const dataTable =\n",
              "            await google.colab.kernel.invokeFunction('convertToInteractive',\n",
              "                                                     [key], {});\n",
              "          if (!dataTable) return;\n",
              "\n",
              "          const docLinkHtml = 'Like what you see? Visit the ' +\n",
              "            '<a target=\"_blank\" href=https://colab.research.google.com/notebooks/data_table.ipynb>data table notebook</a>'\n",
              "            + ' to learn more about interactive tables.';\n",
              "          element.innerHTML = '';\n",
              "          dataTable['output_type'] = 'display_data';\n",
              "          await google.colab.output.renderOutput(dataTable, element);\n",
              "          const docLink = document.createElement('div');\n",
              "          docLink.innerHTML = docLinkHtml;\n",
              "          element.appendChild(docLink);\n",
              "        }\n",
              "      </script>\n",
              "    </div>\n",
              "  </div>\n",
              "  "
            ],
            "text/plain": [
              "   idade  tempo_de_emprego  ... qtd_anos_primeiro_emprestimo risco_emprestimo\n",
              "0     22             123.0  ...                            3                1\n",
              "1     21               5.0  ...                            2                0\n",
              "2     25               1.0  ...                            3                1\n",
              "3     23               4.0  ...                            2                1\n",
              "4     24               8.0  ...                            4                1\n",
              "\n",
              "[5 rows x 12 columns]"
            ]
          },
          "metadata": {},
          "execution_count": 6
        }
      ]
    },
    {
      "cell_type": "markdown",
      "metadata": {
        "id": "tE5GH78jbQI6"
      },
      "source": [
        "# Tratando os dados ausentes, incosistentes e outliers."
      ]
    },
    {
      "cell_type": "markdown",
      "source": [
        "- Verificando dados ausentes e inconsistentes.\n"
      ],
      "metadata": {
        "id": "r1iW5LYo1jjG"
      }
    },
    {
      "cell_type": "code",
      "source": [
        "df.isna().sum()"
      ],
      "metadata": {
        "colab": {
          "base_uri": "https://localhost:8080/"
        },
        "id": "vTZPhV7M1i-d",
        "outputId": "53d1f84a-c397-4f42-ef9f-301d0d3c1893"
      },
      "execution_count": 7,
      "outputs": [
        {
          "output_type": "execute_result",
          "data": {
            "text/plain": [
              "idade                              0\n",
              "tempo_de_emprego                 895\n",
              "tipo_moradia                       0\n",
              "objetivo_emprestimo                0\n",
              "montante_emprestimo                0\n",
              "taxa_juros                      3116\n",
              "renda_por_ano                      0\n",
              "porc_empr_renda_anual              0\n",
              "class_risco_historico              0\n",
              "inadimplencia_hist                 0\n",
              "qtd_anos_primeiro_emprestimo       0\n",
              "risco_emprestimo                   0\n",
              "dtype: int64"
            ]
          },
          "metadata": {},
          "execution_count": 7
        }
      ]
    },
    {
      "cell_type": "code",
      "source": [
        "df.describe().T"
      ],
      "metadata": {
        "colab": {
          "base_uri": "https://localhost:8080/",
          "height": 332
        },
        "id": "EhpBnfoWznIV",
        "outputId": "f216787d-4aec-4e4d-ebe6-ee87b5c2a530"
      },
      "execution_count": 8,
      "outputs": [
        {
          "output_type": "execute_result",
          "data": {
            "text/html": [
              "\n",
              "  <div id=\"df-3d4914c5-4cc1-4518-86e1-3446f7683dca\">\n",
              "    <div class=\"colab-df-container\">\n",
              "      <div>\n",
              "<style scoped>\n",
              "    .dataframe tbody tr th:only-of-type {\n",
              "        vertical-align: middle;\n",
              "    }\n",
              "\n",
              "    .dataframe tbody tr th {\n",
              "        vertical-align: top;\n",
              "    }\n",
              "\n",
              "    .dataframe thead th {\n",
              "        text-align: right;\n",
              "    }\n",
              "</style>\n",
              "<table border=\"1\" class=\"dataframe\">\n",
              "  <thead>\n",
              "    <tr style=\"text-align: right;\">\n",
              "      <th></th>\n",
              "      <th>count</th>\n",
              "      <th>mean</th>\n",
              "      <th>std</th>\n",
              "      <th>min</th>\n",
              "      <th>25%</th>\n",
              "      <th>50%</th>\n",
              "      <th>75%</th>\n",
              "      <th>max</th>\n",
              "    </tr>\n",
              "  </thead>\n",
              "  <tbody>\n",
              "    <tr>\n",
              "      <th>idade</th>\n",
              "      <td>32581.0</td>\n",
              "      <td>27.734600</td>\n",
              "      <td>6.348078</td>\n",
              "      <td>20.00</td>\n",
              "      <td>23.00</td>\n",
              "      <td>26.00</td>\n",
              "      <td>30.00</td>\n",
              "      <td>144.00</td>\n",
              "    </tr>\n",
              "    <tr>\n",
              "      <th>tempo_de_emprego</th>\n",
              "      <td>31686.0</td>\n",
              "      <td>4.789686</td>\n",
              "      <td>4.142630</td>\n",
              "      <td>0.00</td>\n",
              "      <td>2.00</td>\n",
              "      <td>4.00</td>\n",
              "      <td>7.00</td>\n",
              "      <td>123.00</td>\n",
              "    </tr>\n",
              "    <tr>\n",
              "      <th>montante_emprestimo</th>\n",
              "      <td>32581.0</td>\n",
              "      <td>9589.371106</td>\n",
              "      <td>6322.086646</td>\n",
              "      <td>500.00</td>\n",
              "      <td>5000.00</td>\n",
              "      <td>8000.00</td>\n",
              "      <td>12200.00</td>\n",
              "      <td>35000.00</td>\n",
              "    </tr>\n",
              "    <tr>\n",
              "      <th>taxa_juros</th>\n",
              "      <td>29465.0</td>\n",
              "      <td>11.011695</td>\n",
              "      <td>3.240459</td>\n",
              "      <td>5.42</td>\n",
              "      <td>7.90</td>\n",
              "      <td>10.99</td>\n",
              "      <td>13.47</td>\n",
              "      <td>23.22</td>\n",
              "    </tr>\n",
              "    <tr>\n",
              "      <th>renda_por_ano</th>\n",
              "      <td>32581.0</td>\n",
              "      <td>66074.848470</td>\n",
              "      <td>61983.119168</td>\n",
              "      <td>4000.00</td>\n",
              "      <td>38500.00</td>\n",
              "      <td>55000.00</td>\n",
              "      <td>79200.00</td>\n",
              "      <td>6000000.00</td>\n",
              "    </tr>\n",
              "    <tr>\n",
              "      <th>porc_empr_renda_anual</th>\n",
              "      <td>32581.0</td>\n",
              "      <td>0.170203</td>\n",
              "      <td>0.106782</td>\n",
              "      <td>0.00</td>\n",
              "      <td>0.09</td>\n",
              "      <td>0.15</td>\n",
              "      <td>0.23</td>\n",
              "      <td>0.83</td>\n",
              "    </tr>\n",
              "    <tr>\n",
              "      <th>inadimplencia_hist</th>\n",
              "      <td>32581.0</td>\n",
              "      <td>0.176330</td>\n",
              "      <td>0.381106</td>\n",
              "      <td>0.00</td>\n",
              "      <td>0.00</td>\n",
              "      <td>0.00</td>\n",
              "      <td>0.00</td>\n",
              "      <td>1.00</td>\n",
              "    </tr>\n",
              "    <tr>\n",
              "      <th>qtd_anos_primeiro_emprestimo</th>\n",
              "      <td>32581.0</td>\n",
              "      <td>5.804211</td>\n",
              "      <td>4.055001</td>\n",
              "      <td>2.00</td>\n",
              "      <td>3.00</td>\n",
              "      <td>4.00</td>\n",
              "      <td>8.00</td>\n",
              "      <td>30.00</td>\n",
              "    </tr>\n",
              "    <tr>\n",
              "      <th>risco_emprestimo</th>\n",
              "      <td>32581.0</td>\n",
              "      <td>0.218164</td>\n",
              "      <td>0.413006</td>\n",
              "      <td>0.00</td>\n",
              "      <td>0.00</td>\n",
              "      <td>0.00</td>\n",
              "      <td>0.00</td>\n",
              "      <td>1.00</td>\n",
              "    </tr>\n",
              "  </tbody>\n",
              "</table>\n",
              "</div>\n",
              "      <button class=\"colab-df-convert\" onclick=\"convertToInteractive('df-3d4914c5-4cc1-4518-86e1-3446f7683dca')\"\n",
              "              title=\"Convert this dataframe to an interactive table.\"\n",
              "              style=\"display:none;\">\n",
              "        \n",
              "  <svg xmlns=\"http://www.w3.org/2000/svg\" height=\"24px\"viewBox=\"0 0 24 24\"\n",
              "       width=\"24px\">\n",
              "    <path d=\"M0 0h24v24H0V0z\" fill=\"none\"/>\n",
              "    <path d=\"M18.56 5.44l.94 2.06.94-2.06 2.06-.94-2.06-.94-.94-2.06-.94 2.06-2.06.94zm-11 1L8.5 8.5l.94-2.06 2.06-.94-2.06-.94L8.5 2.5l-.94 2.06-2.06.94zm10 10l.94 2.06.94-2.06 2.06-.94-2.06-.94-.94-2.06-.94 2.06-2.06.94z\"/><path d=\"M17.41 7.96l-1.37-1.37c-.4-.4-.92-.59-1.43-.59-.52 0-1.04.2-1.43.59L10.3 9.45l-7.72 7.72c-.78.78-.78 2.05 0 2.83L4 21.41c.39.39.9.59 1.41.59.51 0 1.02-.2 1.41-.59l7.78-7.78 2.81-2.81c.8-.78.8-2.07 0-2.86zM5.41 20L4 18.59l7.72-7.72 1.47 1.35L5.41 20z\"/>\n",
              "  </svg>\n",
              "      </button>\n",
              "      \n",
              "  <style>\n",
              "    .colab-df-container {\n",
              "      display:flex;\n",
              "      flex-wrap:wrap;\n",
              "      gap: 12px;\n",
              "    }\n",
              "\n",
              "    .colab-df-convert {\n",
              "      background-color: #E8F0FE;\n",
              "      border: none;\n",
              "      border-radius: 50%;\n",
              "      cursor: pointer;\n",
              "      display: none;\n",
              "      fill: #1967D2;\n",
              "      height: 32px;\n",
              "      padding: 0 0 0 0;\n",
              "      width: 32px;\n",
              "    }\n",
              "\n",
              "    .colab-df-convert:hover {\n",
              "      background-color: #E2EBFA;\n",
              "      box-shadow: 0px 1px 2px rgba(60, 64, 67, 0.3), 0px 1px 3px 1px rgba(60, 64, 67, 0.15);\n",
              "      fill: #174EA6;\n",
              "    }\n",
              "\n",
              "    [theme=dark] .colab-df-convert {\n",
              "      background-color: #3B4455;\n",
              "      fill: #D2E3FC;\n",
              "    }\n",
              "\n",
              "    [theme=dark] .colab-df-convert:hover {\n",
              "      background-color: #434B5C;\n",
              "      box-shadow: 0px 1px 3px 1px rgba(0, 0, 0, 0.15);\n",
              "      filter: drop-shadow(0px 1px 2px rgba(0, 0, 0, 0.3));\n",
              "      fill: #FFFFFF;\n",
              "    }\n",
              "  </style>\n",
              "\n",
              "      <script>\n",
              "        const buttonEl =\n",
              "          document.querySelector('#df-3d4914c5-4cc1-4518-86e1-3446f7683dca button.colab-df-convert');\n",
              "        buttonEl.style.display =\n",
              "          google.colab.kernel.accessAllowed ? 'block' : 'none';\n",
              "\n",
              "        async function convertToInteractive(key) {\n",
              "          const element = document.querySelector('#df-3d4914c5-4cc1-4518-86e1-3446f7683dca');\n",
              "          const dataTable =\n",
              "            await google.colab.kernel.invokeFunction('convertToInteractive',\n",
              "                                                     [key], {});\n",
              "          if (!dataTable) return;\n",
              "\n",
              "          const docLinkHtml = 'Like what you see? Visit the ' +\n",
              "            '<a target=\"_blank\" href=https://colab.research.google.com/notebooks/data_table.ipynb>data table notebook</a>'\n",
              "            + ' to learn more about interactive tables.';\n",
              "          element.innerHTML = '';\n",
              "          dataTable['output_type'] = 'display_data';\n",
              "          await google.colab.output.renderOutput(dataTable, element);\n",
              "          const docLink = document.createElement('div');\n",
              "          docLink.innerHTML = docLinkHtml;\n",
              "          element.appendChild(docLink);\n",
              "        }\n",
              "      </script>\n",
              "    </div>\n",
              "  </div>\n",
              "  "
            ],
            "text/plain": [
              "                                count          mean  ...       75%         max\n",
              "idade                         32581.0     27.734600  ...     30.00      144.00\n",
              "tempo_de_emprego              31686.0      4.789686  ...      7.00      123.00\n",
              "montante_emprestimo           32581.0   9589.371106  ...  12200.00    35000.00\n",
              "taxa_juros                    29465.0     11.011695  ...     13.47       23.22\n",
              "renda_por_ano                 32581.0  66074.848470  ...  79200.00  6000000.00\n",
              "porc_empr_renda_anual         32581.0      0.170203  ...      0.23        0.83\n",
              "inadimplencia_hist            32581.0      0.176330  ...      0.00        1.00\n",
              "qtd_anos_primeiro_emprestimo  32581.0      5.804211  ...      8.00       30.00\n",
              "risco_emprestimo              32581.0      0.218164  ...      0.00        1.00\n",
              "\n",
              "[9 rows x 8 columns]"
            ]
          },
          "metadata": {},
          "execution_count": 8
        }
      ]
    },
    {
      "cell_type": "code",
      "source": [
        "df[['idade','tempo_de_emprego','renda_por_ano','taxa_juros']].hist(figsize=(18,6));"
      ],
      "metadata": {
        "colab": {
          "base_uri": "https://localhost:8080/",
          "height": 403
        },
        "id": "_aORJZQjznTl",
        "outputId": "79c37535-bbf2-4627-9707-1af08ca46e3c"
      },
      "execution_count": 9,
      "outputs": [
        {
          "output_type": "display_data",
          "data": {
            "image/png": "[encoded data removed]",
            "text/plain": [
              "<Figure size 1296x432 with 4 Axes>"
            ]
          },
          "metadata": {
            "needs_background": "light"
          }
        }
      ]
    },
    {
      "cell_type": "markdown",
      "source": [
        "Após analisar os dados usando a função describe do pandas e histograma de algumas variáveis podemos chegar a alguma conclusões sobre os dados.\n",
        "\n",
        "Analisando as informações acima podemos verificar que há uma inconsistência na coluna **tempo de emprego**, onde 75% dos registros encontram-se entre 0 e 7 anos, e após isso 25% está entre 7 e 123 anos, o que indica a presença de *outliers*.\n",
        "\n",
        "\n",
        "Analisando a variável **idade** que possui 75% dos registros entre 20 e 30 anos e 25% deles entre 30 e 144 anos, que indica a presença de dados que podem ter sido lançados de forma errada e também a presença de outliers.\n",
        "\n",
        "A mesma análise acima pode ser aplicada para a variável **renda por ano** que possui 75% dos registros entre 61983.119168 e 79200.00 e 25% deles entre 79200.00 e 6000000, que indica a presença de dados que podem ter sido lançados de forma errada e também a presença de outliers.\n",
        "\n"
      ],
      "metadata": {
        "id": "c_RJByxqoTWz"
      }
    },
    {
      "cell_type": "code",
      "source": [
        "fig, ax = plt.subplots(1,3, figsize=(18,6))\n",
        "\n",
        "sns.boxplot(y=df['tempo_de_emprego'],ax=ax[0]);\n",
        "sns.boxplot(y=df['idade'],ax=ax[1]);\n",
        "sns.boxplot(y=df['renda_por_ano'],ax=ax[2]);"
      ],
      "metadata": {
        "colab": {
          "base_uri": "https://localhost:8080/",
          "height": 372
        },
        "id": "msDHWqvlpVMq",
        "outputId": "cad147b6-44ac-495f-b4ef-141a7135207f"
      },
      "execution_count": 10,
      "outputs": [
        {
          "output_type": "display_data",
          "data": {
            "image/png": "[encoded data removed]",
            "text/plain": [
              "<Figure size 1296x432 with 3 Axes>"
            ]
          },
          "metadata": {
            "needs_background": "light"
          }
        }
      ]
    },
    {
      "cell_type": "markdown",
      "source": [
        "Tratando a variável **tempo de emprego**\n",
        "\n",
        "Como pode ser observado, para a variável tempo de emprego, registros um pouco abaixo de 17 anos já podem ser considerados como *outliers* e para esse conjunto e dados será estabelecido um filtro de no máximo 20 anos de tempo de emprego, para reduzir a presença de outliers\n",
        "\n",
        "\n",
        "Criando um filtro e excluindo os registros."
      ],
      "metadata": {
        "id": "c0PBClHqrrVa"
      }
    },
    {
      "cell_type": "code",
      "source": [
        "df = df.copy()\n",
        "df = df[df['tempo_de_emprego']<=20]"
      ],
      "metadata": {
        "id": "OLcPPN8Cqby6"
      },
      "execution_count": 11,
      "outputs": []
    },
    {
      "cell_type": "code",
      "source": [
        "sns.boxplot(y=df['tempo_de_emprego']);"
      ],
      "metadata": {
        "colab": {
          "base_uri": "https://localhost:8080/",
          "height": 252
        },
        "id": "929FeheHo43C",
        "outputId": "e9b8b9ac-2c26-4b32-868a-856f7399e237"
      },
      "execution_count": 12,
      "outputs": [
        {
          "output_type": "display_data",
          "data": {
            "image/png": "[encoded data removed]",
            "text/plain": [
              "<Figure size 432x288 with 1 Axes>"
            ]
          },
          "metadata": {
            "needs_background": "light"
          }
        }
      ]
    },
    {
      "cell_type": "markdown",
      "source": [
        "Tratando a variável **Idade**\n",
        "\n",
        "Como pode ser observado, para a variável idade, registros um pouco abaixo de 40 anos já podem ser considerados como *outliers*, mas para esse conjunto de dados será estabalecido um filtro de no máximo 50 anos.\n",
        "\n",
        "\n",
        "Criando um filtro e excluindo os registros."
      ],
      "metadata": {
        "id": "6dEu_LfY6bIm"
      }
    },
    {
      "cell_type": "code",
      "source": [
        "df = df.copy()\n",
        "df = df[df['idade']<=50]"
      ],
      "metadata": {
        "id": "F3wyNUeP6tAC"
      },
      "execution_count": 13,
      "outputs": []
    },
    {
      "cell_type": "code",
      "source": [
        "sns.boxplot(y=df['idade']);"
      ],
      "metadata": {
        "colab": {
          "base_uri": "https://localhost:8080/",
          "height": 252
        },
        "id": "pJ57adf46tC6",
        "outputId": "8d040f1b-a922-42cf-aa15-ea73930aef32"
      },
      "execution_count": 14,
      "outputs": [
        {
          "output_type": "display_data",
          "data": {
            "image/png": "[encoded data removed]",
            "text/plain": [
              "<Figure size 432x288 with 1 Axes>"
            ]
          },
          "metadata": {
            "needs_background": "light"
          }
        }
      ]
    },
    {
      "cell_type": "markdown",
      "source": [
        "Como pode ser observado a quatidade de ouliers diminuiu consideravelmente, assim como quando foi aplicado um filtro na variável tempo de emprego."
      ],
      "metadata": {
        "id": "p1xYQE6i7j87"
      }
    },
    {
      "cell_type": "markdown",
      "source": [
        "Tratando a variável **renda por ano**\n",
        "\n",
        "Como ja foi observado, a variável renda por ano apresenta 75% dos seus registros entre 61983.119168 e 79200.00 e 25 % entre 79200.00 e 6000000, e será feito uma análise mais detalhada sobre isso."
      ],
      "metadata": {
        "id": "eJ53PAdI7xKS"
      }
    },
    {
      "cell_type": "code",
      "source": [
        "sns.boxplot(y=df[df['renda_por_ano']<=200000]['renda_por_ano'])"
      ],
      "metadata": {
        "colab": {
          "base_uri": "https://localhost:8080/",
          "height": 269
        },
        "id": "9wzva6F-9DRi",
        "outputId": "59e02710-d658-4358-9c87-9026c1676da4"
      },
      "execution_count": 15,
      "outputs": [
        {
          "output_type": "execute_result",
          "data": {
            "text/plain": [
              "<matplotlib.axes._subplots.AxesSubplot at 0x7f39b3cd3a10>"
            ]
          },
          "metadata": {},
          "execution_count": 15
        },
        {
          "output_type": "display_data",
          "data": {
            "image/png": "[encoded data removed]",
            "text/plain": [
              "<Figure size 432x288 with 1 Axes>"
            ]
          },
          "metadata": {
            "needs_background": "light"
          }
        }
      ]
    },
    {
      "cell_type": "code",
      "source": [
        "df[df['renda_por_ano']>150000].shape"
      ],
      "metadata": {
        "id": "kh_m9sWJ-yZp",
        "outputId": "06677878-b997-4e48-dde3-8bd253805322",
        "colab": {
          "base_uri": "https://localhost:8080/"
        }
      },
      "execution_count": 16,
      "outputs": [
        {
          "output_type": "execute_result",
          "data": {
            "text/plain": [
              "(1091, 12)"
            ]
          },
          "metadata": {},
          "execution_count": 16
        }
      ]
    },
    {
      "cell_type": "markdown",
      "source": [
        "Será estabelecido um filtro para a renda por ano de no máximo 200000, visto que com esse ponto de corte não serão perdidos muitos registros e que esse novo valor melhora a distribuição dos dados."
      ],
      "metadata": {
        "id": "zbMZqJHm-9kR"
      }
    },
    {
      "cell_type": "code",
      "source": [
        "df = df[df['renda_por_ano'] <= 200000]"
      ],
      "metadata": {
        "id": "L65cZutZ_s2K"
      },
      "execution_count": 17,
      "outputs": []
    },
    {
      "cell_type": "markdown",
      "source": [
        "Tratando a variável **taxa de juros**"
      ],
      "metadata": {
        "id": "BHii5bUkmyxK"
      }
    },
    {
      "cell_type": "code",
      "source": [
        "df.isnull().sum()"
      ],
      "metadata": {
        "id": "hKO0AHHFAKKL",
        "outputId": "683c1307-a31e-4be9-9ba8-261de1d4f8ab",
        "colab": {
          "base_uri": "https://localhost:8080/"
        }
      },
      "execution_count": 18,
      "outputs": [
        {
          "output_type": "execute_result",
          "data": {
            "text/plain": [
              "idade                              0\n",
              "tempo_de_emprego                   0\n",
              "tipo_moradia                       0\n",
              "objetivo_emprestimo                0\n",
              "montante_emprestimo                0\n",
              "taxa_juros                      2975\n",
              "renda_por_ano                      0\n",
              "porc_empr_renda_anual              0\n",
              "class_risco_historico              0\n",
              "inadimplencia_hist                 0\n",
              "qtd_anos_primeiro_emprestimo       0\n",
              "risco_emprestimo                   0\n",
              "dtype: int64"
            ]
          },
          "metadata": {},
          "execution_count": 18
        }
      ]
    },
    {
      "cell_type": "markdown",
      "source": [
        "Os valores ausentes serão preenchidos com o valor médio da taxa de juros."
      ],
      "metadata": {
        "id": "p2pCFp21xfOw"
      }
    },
    {
      "cell_type": "code",
      "execution_count": 19,
      "metadata": {
        "id": "tBextzJubQI-"
      },
      "outputs": [],
      "source": [
        "df['taxa_juros'] = df['taxa_juros'].fillna(df.taxa_juros.mean())"
      ]
    },
    {
      "cell_type": "code",
      "source": [
        "df.isnull().sum()"
      ],
      "metadata": {
        "colab": {
          "base_uri": "https://localhost:8080/"
        },
        "id": "29YbO3gYyEpO",
        "outputId": "87305d38-2df5-4c45-f3d3-2c8193a05917"
      },
      "execution_count": 20,
      "outputs": [
        {
          "output_type": "execute_result",
          "data": {
            "text/plain": [
              "idade                           0\n",
              "tempo_de_emprego                0\n",
              "tipo_moradia                    0\n",
              "objetivo_emprestimo             0\n",
              "montante_emprestimo             0\n",
              "taxa_juros                      0\n",
              "renda_por_ano                   0\n",
              "porc_empr_renda_anual           0\n",
              "class_risco_historico           0\n",
              "inadimplencia_hist              0\n",
              "qtd_anos_primeiro_emprestimo    0\n",
              "risco_emprestimo                0\n",
              "dtype: int64"
            ]
          },
          "metadata": {},
          "execution_count": 20
        }
      ]
    },
    {
      "cell_type": "code",
      "execution_count": 21,
      "metadata": {
        "colab": {
          "base_uri": "https://localhost:8080/"
        },
        "id": "PuHelJSDbQI_",
        "outputId": "9e23889b-ca64-4e17-d43d-e7a669373db6"
      },
      "outputs": [
        {
          "output_type": "stream",
          "name": "stdout",
          "text": [
            "<class 'pandas.core.frame.DataFrame'>\n",
            "Int64Index: 30881 entries, 1 to 32296\n",
            "Data columns (total 12 columns):\n",
            " #   Column                        Non-Null Count  Dtype  \n",
            "---  ------                        --------------  -----  \n",
            " 0   idade                         30881 non-null  int64  \n",
            " 1   tempo_de_emprego              30881 non-null  float64\n",
            " 2   tipo_moradia                  30881 non-null  object \n",
            " 3   objetivo_emprestimo           30881 non-null  object \n",
            " 4   montante_emprestimo           30881 non-null  int64  \n",
            " 5   taxa_juros                    30881 non-null  float64\n",
            " 6   renda_por_ano                 30881 non-null  int64  \n",
            " 7   porc_empr_renda_anual         30881 non-null  float64\n",
            " 8   class_risco_historico         30881 non-null  object \n",
            " 9   inadimplencia_hist            30881 non-null  int64  \n",
            " 10  qtd_anos_primeiro_emprestimo  30881 non-null  int64  \n",
            " 11  risco_emprestimo              30881 non-null  int64  \n",
            "dtypes: float64(3), int64(6), object(3)\n",
            "memory usage: 3.1+ MB\n"
          ]
        }
      ],
      "source": [
        "df.info()"
      ]
    },
    {
      "cell_type": "code",
      "source": [
        "df[['idade','tempo_de_emprego','renda_por_ano','taxa_juros']].hist(figsize=(18,6));"
      ],
      "metadata": {
        "id": "-wz8-SGEASjJ",
        "outputId": "e1798e9b-4d18-4352-8b4f-224f9e952e48",
        "colab": {
          "base_uri": "https://localhost:8080/",
          "height": 390
        }
      },
      "execution_count": 22,
      "outputs": [
        {
          "output_type": "display_data",
          "data": {
            "image/png": "[encoded data removed]",
            "text/plain": [
              "<Figure size 1296x432 with 4 Axes>"
            ]
          },
          "metadata": {
            "needs_background": "light"
          }
        }
      ]
    },
    {
      "cell_type": "markdown",
      "source": [
        "Após o tratamento dos dados, pode ser observado uma mudança considerável nas distribuição dos mesmos."
      ],
      "metadata": {
        "id": "8W-rL1gCAYOJ"
      }
    },
    {
      "cell_type": "markdown",
      "metadata": {
        "id": "v7s-f1EBbQJD"
      },
      "source": [
        "# Transformando variáveis categóricas em variáveis numéricas.\n",
        "\n",
        "Apos todas as transformações realizadas acima, ainda serão criadas novas colunas correspondentes a colunas já existentes que não possuem valor numérico.\n",
        "\n",
        "Esta transformação já é feita visando a análise dos dados e também a modelagem.\n",
        "\n",
        "Utilizando LabelEncoder da biblioteca sklearn, vou tratar variáveis categóricas, criando novas colunas com final id, para que não altere os registros originais do dataset."
      ]
    },
    {
      "cell_type": "code",
      "execution_count": 23,
      "metadata": {
        "id": "rkPsSgLCbQJD"
      },
      "outputs": [],
      "source": [
        "from sklearn.preprocessing import LabelEncoder\n",
        "\n",
        "encoder = LabelEncoder()\n",
        "\n",
        "\n",
        "df['tipo_moradia_id']  = encoder.fit_transform(df['tipo_moradia'])\n",
        "df['objetivo_emprestimo_id']  = encoder.fit_transform(df['objetivo_emprestimo'])\n",
        "df['class_risco_historico_id']  = encoder.fit_transform(df['class_risco_historico'])"
      ]
    },
    {
      "cell_type": "code",
      "execution_count": 24,
      "metadata": {
        "colab": {
          "base_uri": "https://localhost:8080/",
          "height": 270
        },
        "id": "aDXpq5IQbQJE",
        "outputId": "b2e0ebeb-21e0-4877-c4cb-d311fd54db60"
      },
      "outputs": [
        {
          "output_type": "execute_result",
          "data": {
            "text/html": [
              "\n",
              "  <div id=\"df-e698d0c8-f5b9-40a6-8655-98f525a7cee9\">\n",
              "    <div class=\"colab-df-container\">\n",
              "      <div>\n",
              "<style scoped>\n",
              "    .dataframe tbody tr th:only-of-type {\n",
              "        vertical-align: middle;\n",
              "    }\n",
              "\n",
              "    .dataframe tbody tr th {\n",
              "        vertical-align: top;\n",
              "    }\n",
              "\n",
              "    .dataframe thead th {\n",
              "        text-align: right;\n",
              "    }\n",
              "</style>\n",
              "<table border=\"1\" class=\"dataframe\">\n",
              "  <thead>\n",
              "    <tr style=\"text-align: right;\">\n",
              "      <th></th>\n",
              "      <th>idade</th>\n",
              "      <th>tempo_de_emprego</th>\n",
              "      <th>tipo_moradia</th>\n",
              "      <th>tipo_moradia_id</th>\n",
              "      <th>objetivo_emprestimo</th>\n",
              "      <th>objetivo_emprestimo_id</th>\n",
              "      <th>montante_emprestimo</th>\n",
              "      <th>taxa_juros</th>\n",
              "      <th>renda_por_ano</th>\n",
              "      <th>porc_empr_renda_anual</th>\n",
              "      <th>class_risco_historico</th>\n",
              "      <th>class_risco_historico_id</th>\n",
              "      <th>inadimplencia_hist</th>\n",
              "      <th>qtd_anos_primeiro_emprestimo</th>\n",
              "      <th>risco_emprestimo</th>\n",
              "    </tr>\n",
              "  </thead>\n",
              "  <tbody>\n",
              "    <tr>\n",
              "      <th>1</th>\n",
              "      <td>21</td>\n",
              "      <td>5.0</td>\n",
              "      <td>propria</td>\n",
              "      <td>3</td>\n",
              "      <td>educacao</td>\n",
              "      <td>1</td>\n",
              "      <td>1000</td>\n",
              "      <td>11.14</td>\n",
              "      <td>9600</td>\n",
              "      <td>0.10</td>\n",
              "      <td>B</td>\n",
              "      <td>1</td>\n",
              "      <td>0</td>\n",
              "      <td>2</td>\n",
              "      <td>0</td>\n",
              "    </tr>\n",
              "    <tr>\n",
              "      <th>2</th>\n",
              "      <td>25</td>\n",
              "      <td>1.0</td>\n",
              "      <td>hipoteca</td>\n",
              "      <td>1</td>\n",
              "      <td>saude</td>\n",
              "      <td>5</td>\n",
              "      <td>5500</td>\n",
              "      <td>12.87</td>\n",
              "      <td>9600</td>\n",
              "      <td>0.57</td>\n",
              "      <td>C</td>\n",
              "      <td>2</td>\n",
              "      <td>0</td>\n",
              "      <td>3</td>\n",
              "      <td>1</td>\n",
              "    </tr>\n",
              "    <tr>\n",
              "      <th>3</th>\n",
              "      <td>23</td>\n",
              "      <td>4.0</td>\n",
              "      <td>alugada</td>\n",
              "      <td>0</td>\n",
              "      <td>saude</td>\n",
              "      <td>5</td>\n",
              "      <td>35000</td>\n",
              "      <td>15.23</td>\n",
              "      <td>65500</td>\n",
              "      <td>0.53</td>\n",
              "      <td>C</td>\n",
              "      <td>2</td>\n",
              "      <td>0</td>\n",
              "      <td>2</td>\n",
              "      <td>1</td>\n",
              "    </tr>\n",
              "    <tr>\n",
              "      <th>4</th>\n",
              "      <td>24</td>\n",
              "      <td>8.0</td>\n",
              "      <td>alugada</td>\n",
              "      <td>0</td>\n",
              "      <td>saude</td>\n",
              "      <td>5</td>\n",
              "      <td>35000</td>\n",
              "      <td>14.27</td>\n",
              "      <td>54400</td>\n",
              "      <td>0.55</td>\n",
              "      <td>C</td>\n",
              "      <td>2</td>\n",
              "      <td>1</td>\n",
              "      <td>4</td>\n",
              "      <td>1</td>\n",
              "    </tr>\n",
              "    <tr>\n",
              "      <th>5</th>\n",
              "      <td>21</td>\n",
              "      <td>2.0</td>\n",
              "      <td>propria</td>\n",
              "      <td>3</td>\n",
              "      <td>risco</td>\n",
              "      <td>4</td>\n",
              "      <td>2500</td>\n",
              "      <td>7.14</td>\n",
              "      <td>9900</td>\n",
              "      <td>0.25</td>\n",
              "      <td>A</td>\n",
              "      <td>0</td>\n",
              "      <td>0</td>\n",
              "      <td>2</td>\n",
              "      <td>1</td>\n",
              "    </tr>\n",
              "  </tbody>\n",
              "</table>\n",
              "</div>\n",
              "      <button class=\"colab-df-convert\" onclick=\"convertToInteractive('df-e698d0c8-f5b9-40a6-8655-98f525a7cee9')\"\n",
              "              title=\"Convert this dataframe to an interactive table.\"\n",
              "              style=\"display:none;\">\n",
              "        \n",
              "  <svg xmlns=\"http://www.w3.org/2000/svg\" height=\"24px\"viewBox=\"0 0 24 24\"\n",
              "       width=\"24px\">\n",
              "    <path d=\"M0 0h24v24H0V0z\" fill=\"none\"/>\n",
              "    <path d=\"M18.56 5.44l.94 2.06.94-2.06 2.06-.94-2.06-.94-.94-2.06-.94 2.06-2.06.94zm-11 1L8.5 8.5l.94-2.06 2.06-.94-2.06-.94L8.5 2.5l-.94 2.06-2.06.94zm10 10l.94 2.06.94-2.06 2.06-.94-2.06-.94-.94-2.06-.94 2.06-2.06.94z\"/><path d=\"M17.41 7.96l-1.37-1.37c-.4-.4-.92-.59-1.43-.59-.52 0-1.04.2-1.43.59L10.3 9.45l-7.72 7.72c-.78.78-.78 2.05 0 2.83L4 21.41c.39.39.9.59 1.41.59.51 0 1.02-.2 1.41-.59l7.78-7.78 2.81-2.81c.8-.78.8-2.07 0-2.86zM5.41 20L4 18.59l7.72-7.72 1.47 1.35L5.41 20z\"/>\n",
              "  </svg>\n",
              "      </button>\n",
              "      \n",
              "  <style>\n",
              "    .colab-df-container {\n",
              "      display:flex;\n",
              "      flex-wrap:wrap;\n",
              "      gap: 12px;\n",
              "    }\n",
              "\n",
              "    .colab-df-convert {\n",
              "      background-color: #E8F0FE;\n",
              "      border: none;\n",
              "      border-radius: 50%;\n",
              "      cursor: pointer;\n",
              "      display: none;\n",
              "      fill: #1967D2;\n",
              "      height: 32px;\n",
              "      padding: 0 0 0 0;\n",
              "      width: 32px;\n",
              "    }\n",
              "\n",
              "    .colab-df-convert:hover {\n",
              "      background-color: #E2EBFA;\n",
              "      box-shadow: 0px 1px 2px rgba(60, 64, 67, 0.3), 0px 1px 3px 1px rgba(60, 64, 67, 0.15);\n",
              "      fill: #174EA6;\n",
              "    }\n",
              "\n",
              "    [theme=dark] .colab-df-convert {\n",
              "      background-color: #3B4455;\n",
              "      fill: #D2E3FC;\n",
              "    }\n",
              "\n",
              "    [theme=dark] .colab-df-convert:hover {\n",
              "      background-color: #434B5C;\n",
              "      box-shadow: 0px 1px 3px 1px rgba(0, 0, 0, 0.15);\n",
              "      filter: drop-shadow(0px 1px 2px rgba(0, 0, 0, 0.3));\n",
              "      fill: #FFFFFF;\n",
              "    }\n",
              "  </style>\n",
              "\n",
              "      <script>\n",
              "        const buttonEl =\n",
              "          document.querySelector('#df-e698d0c8-f5b9-40a6-8655-98f525a7cee9 button.colab-df-convert');\n",
              "        buttonEl.style.display =\n",
              "          google.colab.kernel.accessAllowed ? 'block' : 'none';\n",
              "\n",
              "        async function convertToInteractive(key) {\n",
              "          const element = document.querySelector('#df-e698d0c8-f5b9-40a6-8655-98f525a7cee9');\n",
              "          const dataTable =\n",
              "            await google.colab.kernel.invokeFunction('convertToInteractive',\n",
              "                                                     [key], {});\n",
              "          if (!dataTable) return;\n",
              "\n",
              "          const docLinkHtml = 'Like what you see? Visit the ' +\n",
              "            '<a target=\"_blank\" href=https://colab.research.google.com/notebooks/data_table.ipynb>data table notebook</a>'\n",
              "            + ' to learn more about interactive tables.';\n",
              "          element.innerHTML = '';\n",
              "          dataTable['output_type'] = 'display_data';\n",
              "          await google.colab.output.renderOutput(dataTable, element);\n",
              "          const docLink = document.createElement('div');\n",
              "          docLink.innerHTML = docLinkHtml;\n",
              "          element.appendChild(docLink);\n",
              "        }\n",
              "      </script>\n",
              "    </div>\n",
              "  </div>\n",
              "  "
            ],
            "text/plain": [
              "   idade  tempo_de_emprego  ... qtd_anos_primeiro_emprestimo  risco_emprestimo\n",
              "1     21               5.0  ...                            2                 0\n",
              "2     25               1.0  ...                            3                 1\n",
              "3     23               4.0  ...                            2                 1\n",
              "4     24               8.0  ...                            4                 1\n",
              "5     21               2.0  ...                            2                 1\n",
              "\n",
              "[5 rows x 15 columns]"
            ]
          },
          "metadata": {},
          "execution_count": 24
        }
      ],
      "source": [
        "# reoordenando as colunas\n",
        "df = df[['idade', 'tempo_de_emprego', 'tipo_moradia','tipo_moradia_id', \n",
        "  'objetivo_emprestimo','objetivo_emprestimo_id',\n",
        "  'montante_emprestimo', 'taxa_juros', 'renda_por_ano',\n",
        "  'porc_empr_renda_anual', 'class_risco_historico',\n",
        "  'class_risco_historico_id', 'inadimplencia_hist',\n",
        "  'qtd_anos_primeiro_emprestimo', 'risco_emprestimo']]\n",
        "\n",
        "df.head()"
      ]
    },
    {
      "cell_type": "markdown",
      "metadata": {
        "id": "BCEZj6bRbQJG"
      },
      "source": [
        "- Salvando os dados tratados em um arquivo csv."
      ]
    },
    {
      "cell_type": "code",
      "execution_count": 25,
      "metadata": {
        "id": "UuChYpTIbQJH"
      },
      "outputs": [],
      "source": [
        "df.to_csv('dados_analise_risco_de_cresdito.csv',index=False)"
      ]
    },
    {
      "cell_type": "code",
      "source": [
        ""
      ],
      "metadata": {
        "id": "zYnthYOzAsVm"
      },
      "execution_count": 25,
      "outputs": []
    }
  ],
  "metadata": {
    "kernelspec": {
      "display_name": "Python 3",
      "language": "python",
      "name": "python3"
    },
    "language_info": {
      "codemirror_mode": {
        "name": "ipython",
        "version": 3
      },
      "file_extension": ".py",
      "mimetype": "text/x-python",
      "name": "python",
      "nbconvert_exporter": "python",
      "pygments_lexer": "ipython3",
      "version": "3.8.3"
    },
    "colab": {
      "name": "risco_de_credito_tratamento_de_dados.ipynb",
      "provenance": []
    }
  },
  "nbformat": 4,
  "nbformat_minor": 0
}