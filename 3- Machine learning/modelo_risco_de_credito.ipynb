{
 "cells": [
  {
   "cell_type": "markdown",
   "metadata": {},
   "source": [
    "# Objetivo:\n",
    "\n",
    "    Utilizando os dados tratados anteriormoente, desenvolver um modelo de classificação que seja eficiente para identificar quando o empréstimo for de risco ou não."
   ]
  },
  {
   "cell_type": "code",
   "execution_count": 1,
   "metadata": {},
   "outputs": [
    {
     "name": "stdout",
     "output_type": "stream",
     "text": [
      "Requirement already satisfied: xgboost==0.81 in c:\\users\\pc\\anaconda3\\lib\\site-packages (0.81)\n",
      "Requirement already satisfied: numpy in c:\\users\\pc\\anaconda3\\lib\\site-packages (from xgboost==0.81) (1.19.5)\n",
      "Requirement already satisfied: scipy in c:\\users\\pc\\anaconda3\\lib\\site-packages (from xgboost==0.81) (1.5.0)\n"
     ]
    }
   ],
   "source": [
    "!pip install xgboost==0.81"
   ]
  },
  {
   "cell_type": "code",
   "execution_count": 2,
   "metadata": {},
   "outputs": [],
   "source": [
    "import pandas as pd\n",
    "import numpy as np\n",
    "import matplotlib.pyplot as plt\n",
    "import seaborn as sns"
   ]
  },
  {
   "cell_type": "code",
   "execution_count": 3,
   "metadata": {},
   "outputs": [],
   "source": [
    "url='https://raw.githubusercontent.com/robertferro/analisando_risco_credito/main/1-%20Tratamento%20de%20dados%20(ETL)/dados_analise_risco_de_cresdito.csv'"
   ]
  },
  {
   "cell_type": "code",
   "execution_count": 4,
   "metadata": {},
   "outputs": [],
   "source": [
    "df = pd.read_csv(url,sep=',')"
   ]
  },
  {
   "cell_type": "code",
   "execution_count": 5,
   "metadata": {},
   "outputs": [
    {
     "data": {
      "text/html": [
       "<div>\n",
       "<style scoped>\n",
       "    .dataframe tbody tr th:only-of-type {\n",
       "        vertical-align: middle;\n",
       "    }\n",
       "\n",
       "    .dataframe tbody tr th {\n",
       "        vertical-align: top;\n",
       "    }\n",
       "\n",
       "    .dataframe thead th {\n",
       "        text-align: right;\n",
       "    }\n",
       "</style>\n",
       "<table border=\"1\" class=\"dataframe\">\n",
       "  <thead>\n",
       "    <tr style=\"text-align: right;\">\n",
       "      <th></th>\n",
       "      <th>idade</th>\n",
       "      <th>tempo_de_emprego</th>\n",
       "      <th>tipo_moradia</th>\n",
       "      <th>objetivo_emprestimo</th>\n",
       "      <th>montante_emprestimo</th>\n",
       "      <th>taxa_juros</th>\n",
       "      <th>renda_por_ano</th>\n",
       "      <th>porc_empr_renda_anual</th>\n",
       "      <th>class_risco_historico</th>\n",
       "      <th>inadimplencia_hist</th>\n",
       "      <th>qtd_anos_primeiro_emprestimo</th>\n",
       "      <th>risco_emprestimo</th>\n",
       "      <th>tipo_moradia_id</th>\n",
       "      <th>objetivo_emprestimo_id</th>\n",
       "      <th>class_risco_historico_id</th>\n",
       "    </tr>\n",
       "  </thead>\n",
       "  <tbody>\n",
       "    <tr>\n",
       "      <th>0</th>\n",
       "      <td>21</td>\n",
       "      <td>5.0</td>\n",
       "      <td>propria</td>\n",
       "      <td>educacao</td>\n",
       "      <td>1000</td>\n",
       "      <td>11.14</td>\n",
       "      <td>9600</td>\n",
       "      <td>0.10</td>\n",
       "      <td>B</td>\n",
       "      <td>0</td>\n",
       "      <td>2</td>\n",
       "      <td>0</td>\n",
       "      <td>3</td>\n",
       "      <td>1</td>\n",
       "      <td>1</td>\n",
       "    </tr>\n",
       "    <tr>\n",
       "      <th>1</th>\n",
       "      <td>25</td>\n",
       "      <td>1.0</td>\n",
       "      <td>hipoteca</td>\n",
       "      <td>saude</td>\n",
       "      <td>5500</td>\n",
       "      <td>12.87</td>\n",
       "      <td>9600</td>\n",
       "      <td>0.57</td>\n",
       "      <td>C</td>\n",
       "      <td>0</td>\n",
       "      <td>3</td>\n",
       "      <td>1</td>\n",
       "      <td>1</td>\n",
       "      <td>5</td>\n",
       "      <td>2</td>\n",
       "    </tr>\n",
       "    <tr>\n",
       "      <th>2</th>\n",
       "      <td>23</td>\n",
       "      <td>4.0</td>\n",
       "      <td>alugada</td>\n",
       "      <td>saude</td>\n",
       "      <td>35000</td>\n",
       "      <td>15.23</td>\n",
       "      <td>65500</td>\n",
       "      <td>0.53</td>\n",
       "      <td>C</td>\n",
       "      <td>0</td>\n",
       "      <td>2</td>\n",
       "      <td>1</td>\n",
       "      <td>0</td>\n",
       "      <td>5</td>\n",
       "      <td>2</td>\n",
       "    </tr>\n",
       "    <tr>\n",
       "      <th>3</th>\n",
       "      <td>24</td>\n",
       "      <td>8.0</td>\n",
       "      <td>alugada</td>\n",
       "      <td>saude</td>\n",
       "      <td>35000</td>\n",
       "      <td>14.27</td>\n",
       "      <td>54400</td>\n",
       "      <td>0.55</td>\n",
       "      <td>C</td>\n",
       "      <td>1</td>\n",
       "      <td>4</td>\n",
       "      <td>1</td>\n",
       "      <td>0</td>\n",
       "      <td>5</td>\n",
       "      <td>2</td>\n",
       "    </tr>\n",
       "    <tr>\n",
       "      <th>4</th>\n",
       "      <td>21</td>\n",
       "      <td>2.0</td>\n",
       "      <td>propria</td>\n",
       "      <td>risco</td>\n",
       "      <td>2500</td>\n",
       "      <td>7.14</td>\n",
       "      <td>9900</td>\n",
       "      <td>0.25</td>\n",
       "      <td>A</td>\n",
       "      <td>0</td>\n",
       "      <td>2</td>\n",
       "      <td>1</td>\n",
       "      <td>3</td>\n",
       "      <td>4</td>\n",
       "      <td>0</td>\n",
       "    </tr>\n",
       "  </tbody>\n",
       "</table>\n",
       "</div>"
      ],
      "text/plain": [
       "   idade  tempo_de_emprego tipo_moradia objetivo_emprestimo  \\\n",
       "0     21               5.0      propria            educacao   \n",
       "1     25               1.0     hipoteca               saude   \n",
       "2     23               4.0      alugada               saude   \n",
       "3     24               8.0      alugada               saude   \n",
       "4     21               2.0      propria               risco   \n",
       "\n",
       "   montante_emprestimo  taxa_juros  renda_por_ano  porc_empr_renda_anual  \\\n",
       "0                 1000       11.14           9600                   0.10   \n",
       "1                 5500       12.87           9600                   0.57   \n",
       "2                35000       15.23          65500                   0.53   \n",
       "3                35000       14.27          54400                   0.55   \n",
       "4                 2500        7.14           9900                   0.25   \n",
       "\n",
       "  class_risco_historico  inadimplencia_hist  qtd_anos_primeiro_emprestimo  \\\n",
       "0                     B                   0                             2   \n",
       "1                     C                   0                             3   \n",
       "2                     C                   0                             2   \n",
       "3                     C                   1                             4   \n",
       "4                     A                   0                             2   \n",
       "\n",
       "   risco_emprestimo  tipo_moradia_id  objetivo_emprestimo_id  \\\n",
       "0                 0                3                       1   \n",
       "1                 1                1                       5   \n",
       "2                 1                0                       5   \n",
       "3                 1                0                       5   \n",
       "4                 1                3                       4   \n",
       "\n",
       "   class_risco_historico_id  \n",
       "0                         1  \n",
       "1                         2  \n",
       "2                         2  \n",
       "3                         2  \n",
       "4                         0  "
      ]
     },
     "execution_count": 5,
     "metadata": {},
     "output_type": "execute_result"
    }
   ],
   "source": [
    "df.head()"
   ]
  },
  {
   "cell_type": "markdown",
   "metadata": {},
   "source": [
    "# 4 - Machine learning"
   ]
  },
  {
   "cell_type": "markdown",
   "metadata": {},
   "source": [
    " - Pre-processamento dos dados"
   ]
  },
  {
   "cell_type": "markdown",
   "metadata": {},
   "source": [
    "- Divisao treino e teste"
   ]
  },
  {
   "cell_type": "code",
   "execution_count": 6,
   "metadata": {},
   "outputs": [],
   "source": [
    "dados_ml = df.drop(columns = ['tipo_moradia','objetivo_emprestimo','class_risco_historico'],axis=1)"
   ]
  },
  {
   "cell_type": "code",
   "execution_count": 7,
   "metadata": {},
   "outputs": [],
   "source": [
    "X = dados_ml.drop('risco_emprestimo',axis=1)\n",
    "Y = dados_ml['risco_emprestimo']"
   ]
  },
  {
   "cell_type": "code",
   "execution_count": 8,
   "metadata": {},
   "outputs": [],
   "source": [
    "from sklearn.ensemble import ExtraTreesClassifier\n",
    "\n",
    "clf = ExtraTreesClassifier()\n",
    "\n",
    "_ = clf.fit(X,Y)\n",
    "\n",
    "features = pd.DataFrame()\n",
    "features['feature'] = X.columns\n",
    "features['importancia'] = clf.feature_importances_\n",
    "\n",
    "# features[ features.importancia > np.mean(features.importancia)].sort_values(by='importancia',ascending=False)\n"
   ]
  },
  {
   "cell_type": "code",
   "execution_count": 9,
   "metadata": {},
   "outputs": [
    {
     "data": {
      "text/html": [
       "<div>\n",
       "<style scoped>\n",
       "    .dataframe tbody tr th:only-of-type {\n",
       "        vertical-align: middle;\n",
       "    }\n",
       "\n",
       "    .dataframe tbody tr th {\n",
       "        vertical-align: top;\n",
       "    }\n",
       "\n",
       "    .dataframe thead th {\n",
       "        text-align: right;\n",
       "    }\n",
       "</style>\n",
       "<table border=\"1\" class=\"dataframe\">\n",
       "  <thead>\n",
       "    <tr style=\"text-align: right;\">\n",
       "      <th></th>\n",
       "      <th>feature</th>\n",
       "      <th>importancia</th>\n",
       "    </tr>\n",
       "  </thead>\n",
       "  <tbody>\n",
       "    <tr>\n",
       "      <th>5</th>\n",
       "      <td>porc_empr_renda_anual</td>\n",
       "      <td>0.228522</td>\n",
       "    </tr>\n",
       "    <tr>\n",
       "      <th>10</th>\n",
       "      <td>class_risco_historico_id</td>\n",
       "      <td>0.129374</td>\n",
       "    </tr>\n",
       "    <tr>\n",
       "      <th>4</th>\n",
       "      <td>renda_por_ano</td>\n",
       "      <td>0.107352</td>\n",
       "    </tr>\n",
       "    <tr>\n",
       "      <th>3</th>\n",
       "      <td>taxa_juros</td>\n",
       "      <td>0.102711</td>\n",
       "    </tr>\n",
       "    <tr>\n",
       "      <th>2</th>\n",
       "      <td>montante_emprestimo</td>\n",
       "      <td>0.081150</td>\n",
       "    </tr>\n",
       "    <tr>\n",
       "      <th>8</th>\n",
       "      <td>tipo_moradia_id</td>\n",
       "      <td>0.080905</td>\n",
       "    </tr>\n",
       "    <tr>\n",
       "      <th>9</th>\n",
       "      <td>objetivo_emprestimo_id</td>\n",
       "      <td>0.075277</td>\n",
       "    </tr>\n",
       "    <tr>\n",
       "      <th>1</th>\n",
       "      <td>tempo_de_emprego</td>\n",
       "      <td>0.071966</td>\n",
       "    </tr>\n",
       "    <tr>\n",
       "      <th>0</th>\n",
       "      <td>idade</td>\n",
       "      <td>0.055461</td>\n",
       "    </tr>\n",
       "    <tr>\n",
       "      <th>7</th>\n",
       "      <td>qtd_anos_primeiro_emprestimo</td>\n",
       "      <td>0.048192</td>\n",
       "    </tr>\n",
       "    <tr>\n",
       "      <th>6</th>\n",
       "      <td>inadimplencia_hist</td>\n",
       "      <td>0.019091</td>\n",
       "    </tr>\n",
       "  </tbody>\n",
       "</table>\n",
       "</div>"
      ],
      "text/plain": [
       "                         feature  importancia\n",
       "5          porc_empr_renda_anual     0.228522\n",
       "10      class_risco_historico_id     0.129374\n",
       "4                  renda_por_ano     0.107352\n",
       "3                     taxa_juros     0.102711\n",
       "2            montante_emprestimo     0.081150\n",
       "8                tipo_moradia_id     0.080905\n",
       "9         objetivo_emprestimo_id     0.075277\n",
       "1               tempo_de_emprego     0.071966\n",
       "0                          idade     0.055461\n",
       "7   qtd_anos_primeiro_emprestimo     0.048192\n",
       "6             inadimplencia_hist     0.019091"
      ]
     },
     "execution_count": 9,
     "metadata": {},
     "output_type": "execute_result"
    }
   ],
   "source": [
    "features.sort_values(by='importancia',ascending=False)"
   ]
  },
  {
   "cell_type": "code",
   "execution_count": 10,
   "metadata": {},
   "outputs": [],
   "source": [
    "from sklearn.model_selection import train_test_split"
   ]
  },
  {
   "cell_type": "code",
   "execution_count": 11,
   "metadata": {},
   "outputs": [],
   "source": [
    "X_treino, X_teste, Y_treino, Y_teste = train_test_split(X,Y, test_size=0.2,stratify=Y)"
   ]
  },
  {
   "cell_type": "markdown",
   "metadata": {},
   "source": [
    "- Benchmark"
   ]
  },
  {
   "cell_type": "code",
   "execution_count": 12,
   "metadata": {},
   "outputs": [
    {
     "name": "stdout",
     "output_type": "stream",
     "text": [
      "A acurácia do dummy mostfrequent foi 78.46%\n"
     ]
    }
   ],
   "source": [
    "from sklearn.dummy import DummyClassifier\n",
    "\n",
    "dummy_clf = DummyClassifier(strategy=\"most_frequent\")\n",
    "dummy_clf.fit(X_treino, Y_treino)\n",
    "y_pred = dummy_clf.predict(X_teste)\n",
    "acuracia = dummy_clf.score(X_teste, Y_teste) * 100\n",
    "\n",
    "print('A acurácia do dummy mostfrequent foi %.2f%%' % acuracia)"
   ]
  },
  {
   "cell_type": "code",
   "execution_count": 13,
   "metadata": {},
   "outputs": [
    {
     "data": {
      "text/plain": [
       "Text(33.0, 0.5, 'Real ( 1 ou 0)')"
      ]
     },
     "execution_count": 13,
     "metadata": {},
     "output_type": "execute_result"
    },
    {
     "data": {
      "image/png": "[encoded data removed]",
      "text/plain": [
       "<Figure size 432x288 with 2 Axes>"
      ]
     },
     "metadata": {
      "needs_background": "light"
     },
     "output_type": "display_data"
    }
   ],
   "source": [
    "from sklearn.metrics import confusion_matrix\n",
    "\n",
    "cm=confusion_matrix(Y_teste, y_pred)\n",
    "sns.heatmap(cm, annot=True, fmt='g')\n",
    "\n",
    "plt.xlabel('Predição( 1 ou 0)')\n",
    "plt.ylabel('Real ( 1 ou 0)')"
   ]
  },
  {
   "cell_type": "code",
   "execution_count": 14,
   "metadata": {},
   "outputs": [
    {
     "data": {
      "text/plain": [
       "0.5"
      ]
     },
     "execution_count": 14,
     "metadata": {},
     "output_type": "execute_result"
    }
   ],
   "source": [
    "from sklearn.metrics import  roc_auc_score,roc_curve, classification_report\n",
    "from sklearn import metrics\n",
    "\n",
    "y_proba = dummy_clf.predict_proba(X_teste)\n",
    "roc_auc_score(Y_teste, y_proba[:,1])"
   ]
  },
  {
   "cell_type": "code",
   "execution_count": 15,
   "metadata": {},
   "outputs": [
    {
     "name": "stdout",
     "output_type": "stream",
     "text": [
      "              precision    recall  f1-score   support\n",
      "\n",
      "           0       0.78      1.00      0.88      4971\n",
      "           1       0.00      0.00      0.00      1365\n",
      "\n",
      "    accuracy                           0.78      6336\n",
      "   macro avg       0.39      0.50      0.44      6336\n",
      "weighted avg       0.62      0.78      0.69      6336\n",
      "\n"
     ]
    },
    {
     "name": "stderr",
     "output_type": "stream",
     "text": [
      "C:\\Users\\pc\\anaconda3\\lib\\site-packages\\sklearn\\metrics\\_classification.py:1221: UndefinedMetricWarning: Precision and F-score are ill-defined and being set to 0.0 in labels with no predicted samples. Use `zero_division` parameter to control this behavior.\n",
      "  _warn_prf(average, modifier, msg_start, len(result))\n"
     ]
    }
   ],
   "source": [
    "print(classification_report(Y_teste, y_pred))"
   ]
  },
  {
   "cell_type": "markdown",
   "metadata": {},
   "source": [
    "- Testando alguns modelos e fazendo também a validação cruzada."
   ]
  },
  {
   "cell_type": "code",
   "execution_count": 16,
   "metadata": {},
   "outputs": [
    {
     "name": "stdout",
     "output_type": "stream",
     "text": [
      "LogisticRegression\n",
      "Treino: 0.8069289350116403\n",
      "Validation score 0.8069287089934749\n",
      "Teste: 0.8061868686868687\n",
      "ROC AUC\n",
      "Treino 0.7568454948628967\n",
      "Test 0.7706404103507303\n",
      "================================================================================\n",
      "GaussianNB\n",
      "Treino: 0.8249220692104329\n",
      "Validation score 0.8248430459968146\n",
      "Teste: 0.8207070707070707\n",
      "ROC AUC\n",
      "Treino 0.7798816851474901\n",
      "Test 0.784112688759641\n",
      "================================================================================\n",
      "DecisionTreeClassifier\n",
      "Treino: 1.0\n",
      "Validation score 0.8879375042721416\n",
      "Teste: 0.891729797979798\n",
      "ROC AUC\n",
      "Treino 1.0\n",
      "Test 0.8531447229093577\n",
      "================================================================================\n",
      "RandomForestClassifier\n",
      "Treino: 1.0\n",
      "Validation score 0.9326440503840996\n",
      "Teste: 0.9335542929292929\n",
      "ROC AUC\n",
      "Treino 1.0\n",
      "Test 0.9370471813441035\n",
      "================================================================================\n",
      "XGBClassifier\n",
      "Treino: 0.9320522432229807\n",
      "Validation score 0.9308289566103012\n",
      "Teste: 0.931344696969697\n",
      "ROC AUC\n",
      "Treino 0.9332191903219917\n",
      "Test 0.9315695502780597\n",
      "================================================================================\n"
     ]
    }
   ],
   "source": [
    "import warnings\n",
    "warnings.filterwarnings(\"ignore\")\n",
    "\n",
    "from sklearn.linear_model import LogisticRegression\n",
    "from sklearn.naive_bayes import GaussianNB\n",
    "from sklearn.tree import DecisionTreeClassifier\n",
    "from sklearn.ensemble import RandomForestClassifier\n",
    "from xgboost import XGBClassifier\n",
    "\n",
    "\n",
    "\n",
    "from sklearn.model_selection import cross_val_score\n",
    "\n",
    "lista_classificacores = [ LogisticRegression(),\n",
    "                         GaussianNB(),\n",
    "                         DecisionTreeClassifier(),\n",
    "                         RandomForestClassifier(),\n",
    "                         XGBClassifier()]\n",
    "\n",
    "\n",
    "for clf in lista_classificacores:\n",
    "  print(clf.__class__.__name__)\n",
    "  clf.fit(X_treino, Y_treino)\n",
    "  train_acc = clf.score(X_treino, Y_treino)\n",
    "  val_score = cross_val_score(clf, X_treino, Y_treino, cv=5)\n",
    "  test_acc = clf.score(X_teste, Y_teste)\n",
    "  print('Treino:', train_acc)\n",
    "  print('Validation score', val_score.mean())\n",
    "  print('Teste:', test_acc)\n",
    "\n",
    "  print('ROC AUC')\n",
    "\n",
    "  y_proba_treino = clf.predict_proba(X_treino)\n",
    "  roc_treino = roc_auc_score(Y_treino, y_proba_treino[:, 1])\n",
    "  print('Treino', roc_treino)\n",
    "\n",
    "  y_proba_teste = clf.predict_proba(X_teste)\n",
    "  roc_teste = roc_auc_score(Y_teste, y_proba_teste[:, 1])\n",
    "  print('Test', roc_teste)\n",
    "  print('='*80)"
   ]
  },
  {
   "cell_type": "code",
   "execution_count": 17,
   "metadata": {},
   "outputs": [],
   "source": [
    "clf = XGBClassifier(max_depth=15,n_estimators=250,seed=42)"
   ]
  },
  {
   "cell_type": "code",
   "execution_count": 18,
   "metadata": {},
   "outputs": [
    {
     "data": {
      "text/plain": [
       "XGBClassifier(max_depth=15, n_estimators=250, seed=42)"
      ]
     },
     "execution_count": 18,
     "metadata": {},
     "output_type": "execute_result"
    }
   ],
   "source": [
    "clf.fit(X_treino, Y_treino)"
   ]
  },
  {
   "cell_type": "code",
   "execution_count": 19,
   "metadata": {},
   "outputs": [
    {
     "name": "stdout",
     "output_type": "stream",
     "text": [
      "A acurácia do XGBCLassifier foi 93.80%\n"
     ]
    }
   ],
   "source": [
    "y_pred = clf.predict(X_teste)\n",
    "acuracia = clf.score(X_teste, Y_teste) * 100\n",
    "\n",
    "print('A acurácia do XGBCLassifier foi %.2f%%' % acuracia)"
   ]
  },
  {
   "cell_type": "code",
   "execution_count": 20,
   "metadata": {},
   "outputs": [
    {
     "data": {
      "text/plain": [
       "Text(33.0, 0.5, 'Real ( 1 ou 0)')"
      ]
     },
     "execution_count": 20,
     "metadata": {},
     "output_type": "execute_result"
    },
    {
     "data": {
      "image/png": "[encoded data removed]",
      "text/plain": [
       "<Figure size 432x288 with 2 Axes>"
      ]
     },
     "metadata": {
      "needs_background": "light"
     },
     "output_type": "display_data"
    }
   ],
   "source": [
    "cm=confusion_matrix(Y_teste, y_pred)\n",
    "sns.heatmap(cm, annot=True, fmt='g')\n",
    "\n",
    "plt.xlabel('Predição( 1 ou 0)')\n",
    "plt.ylabel('Real ( 1 ou 0)')"
   ]
  },
  {
   "cell_type": "code",
   "execution_count": 21,
   "metadata": {},
   "outputs": [
    {
     "data": {
      "text/plain": [
       "0.9550386380199294"
      ]
     },
     "execution_count": 21,
     "metadata": {},
     "output_type": "execute_result"
    }
   ],
   "source": [
    "y_proba = clf.predict_proba(X_teste)[:,1]\n",
    "roc_auc = roc_auc_score(Y_teste, y_proba)\n",
    "roc_auc"
   ]
  },
  {
   "cell_type": "code",
   "execution_count": 22,
   "metadata": {},
   "outputs": [
    {
     "name": "stdout",
     "output_type": "stream",
     "text": [
      "              precision    recall  f1-score   support\n",
      "\n",
      "           0       0.94      0.99      0.96      4971\n",
      "           1       0.95      0.75      0.84      1365\n",
      "\n",
      "    accuracy                           0.94      6336\n",
      "   macro avg       0.94      0.87      0.90      6336\n",
      "weighted avg       0.94      0.94      0.94      6336\n",
      "\n"
     ]
    }
   ],
   "source": [
    "print(classification_report(Y_teste, y_proba>0.5))"
   ]
  },
  {
   "cell_type": "code",
   "execution_count": 23,
   "metadata": {},
   "outputs": [
    {
     "data": {
      "image/png": "[encoded data removed]",
      "text/plain": [
       "<Figure size 432x288 with 1 Axes>"
      ]
     },
     "metadata": {
      "needs_background": "light"
     },
     "output_type": "display_data"
    }
   ],
   "source": [
    "fpr, tpr, thresholds = metrics.roc_curve(Y_teste,y_proba)\n",
    "plt.plot(fpr, tpr)\n",
    "plt.plot([0,1],[0,1], '--')\n",
    "plt.title('ROC curve')\n",
    "plt.xlabel('False Positive Rate')\n",
    "plt.ylabel('True Positive Rate')\n",
    "plt.grid(True)\n",
    "plt.show()"
   ]
  },
  {
   "cell_type": "code",
   "execution_count": null,
   "metadata": {},
   "outputs": [],
   "source": []
  }
 ],
 "metadata": {
  "kernelspec": {
   "display_name": "Python 3",
   "language": "python",
   "name": "python3"
  },
  "language_info": {
   "codemirror_mode": {
    "name": "ipython",
    "version": 3
   },
   "file_extension": ".py",
   "mimetype": "text/x-python",
   "name": "python",
   "nbconvert_exporter": "python",
   "pygments_lexer": "ipython3",
   "version": "3.8.3"
  }
 },
 "nbformat": 4,
 "nbformat_minor": 4
}
