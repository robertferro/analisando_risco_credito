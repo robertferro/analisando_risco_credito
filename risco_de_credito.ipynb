{
 "cells": [
  {
   "cell_type": "markdown",
   "metadata": {},
   "source": [
    "link do dataset: https://www.kaggle.com/laotse/credit-risk-dataset?select=credit_risk_dataset.csv\n",
    "\n",
    "## Descrição das colunas :\n",
    "\n",
    "\n",
    "person_age: idade da pesoa quando pegou o empréstimo.\n",
    "\n",
    "person_income: renda por ano.\n",
    "\n",
    "person_home_ownership: tipo de propriedade da casa.\n",
    "\n",
    "person_emp_length: quantidade de tempo em anos que a pessoa está empregada.\n",
    "\n",
    "loan_intent: objetivo do emprestimo.\n",
    "\n",
    "loan_grade: é um sistema de classificação que envolve a atribuição de uma pontuação de qualidade a um empréstimo com base no histórico de crédito do mutuário, qualidade da caução e probabilidade de reembolso do principal e juros.\n",
    "\n",
    "loan_amnt:valor do empréstimo.\n",
    "\n",
    "loan_int_rate: o juros pago pelo empréstimo.\n",
    "\n",
    "loan_status: status de risco do empréstimo.\n",
    "\n",
    "loan_percent_income: relação entre o valor do empréstimo e a receita anual.\n",
    "\n",
    "cb_person_default_on_file: histórico de inadimplência.\n",
    "\n",
    "cb_person_cred_hist_length: representa o número de anos de história pessoal desde o primeiro empréstimo tomado por uma pessoa."
   ]
  },
  {
   "cell_type": "markdown",
   "metadata": {},
   "source": [
    "# Description\n",
    "\n",
    "person_age: is the age of the person at the time of the loan.\n",
    "\n",
    "person_income: is the yearly income of the person at the time of the loan.\n",
    "\n",
    "person_home_ownership: is the type of ownership of the home.\n",
    "\n",
    "person_emp_length: is the amount of time in years that person is employed.\n",
    "\n",
    "loan_intent: is the aim of the loan.\n",
    "\n",
    "loan_grade: is a classification system that involves assigning a quality score to a loan based on a borrower's credit history, quality of the collateral, and the likelihood of repayment of the principal and interest.\n",
    "\n",
    "loan_amnt: is the dimension of the loan taken.\n",
    "\n",
    "loan_int_rate: is the interest paid for the loan.\n",
    "\n",
    "loan_status: is a dummy variable where 1 is default, 0 is not default.\n",
    "\n",
    "loan_percent_income: is the ratio between the loan taken and the annual income.\n",
    "\n",
    "cb_person_default_on_file: answers whether the person has defaulted before.\n",
    "\n",
    "cb_person_cred_hist_length: represents the number of years of personal history since the first loan taken from that person."
   ]
  },
  {
   "cell_type": "code",
   "execution_count": 1,
   "metadata": {},
   "outputs": [],
   "source": [
    "import pandas as pd\n",
    "import numpy as np\n",
    "import matplotlib.pyplot as plt\n",
    "import seaborn as sns"
   ]
  },
  {
   "cell_type": "code",
   "execution_count": 2,
   "metadata": {},
   "outputs": [],
   "source": [
    "df = pd.read_csv('credit_risk_dataset.csv')"
   ]
  },
  {
   "cell_type": "code",
   "execution_count": 3,
   "metadata": {},
   "outputs": [
    {
     "data": {
      "text/html": [
       "<div>\n",
       "<style scoped>\n",
       "    .dataframe tbody tr th:only-of-type {\n",
       "        vertical-align: middle;\n",
       "    }\n",
       "\n",
       "    .dataframe tbody tr th {\n",
       "        vertical-align: top;\n",
       "    }\n",
       "\n",
       "    .dataframe thead th {\n",
       "        text-align: right;\n",
       "    }\n",
       "</style>\n",
       "<table border=\"1\" class=\"dataframe\">\n",
       "  <thead>\n",
       "    <tr style=\"text-align: right;\">\n",
       "      <th></th>\n",
       "      <th>person_age</th>\n",
       "      <th>person_income</th>\n",
       "      <th>person_home_ownership</th>\n",
       "      <th>person_emp_length</th>\n",
       "      <th>loan_intent</th>\n",
       "      <th>loan_grade</th>\n",
       "      <th>loan_amnt</th>\n",
       "      <th>loan_int_rate</th>\n",
       "      <th>loan_status</th>\n",
       "      <th>loan_percent_income</th>\n",
       "      <th>cb_person_default_on_file</th>\n",
       "      <th>cb_person_cred_hist_length</th>\n",
       "    </tr>\n",
       "  </thead>\n",
       "  <tbody>\n",
       "    <tr>\n",
       "      <th>0</th>\n",
       "      <td>22</td>\n",
       "      <td>59000</td>\n",
       "      <td>RENT</td>\n",
       "      <td>123.0</td>\n",
       "      <td>PERSONAL</td>\n",
       "      <td>D</td>\n",
       "      <td>35000</td>\n",
       "      <td>16.02</td>\n",
       "      <td>1</td>\n",
       "      <td>0.59</td>\n",
       "      <td>Y</td>\n",
       "      <td>3</td>\n",
       "    </tr>\n",
       "    <tr>\n",
       "      <th>1</th>\n",
       "      <td>21</td>\n",
       "      <td>9600</td>\n",
       "      <td>OWN</td>\n",
       "      <td>5.0</td>\n",
       "      <td>EDUCATION</td>\n",
       "      <td>B</td>\n",
       "      <td>1000</td>\n",
       "      <td>11.14</td>\n",
       "      <td>0</td>\n",
       "      <td>0.10</td>\n",
       "      <td>N</td>\n",
       "      <td>2</td>\n",
       "    </tr>\n",
       "    <tr>\n",
       "      <th>2</th>\n",
       "      <td>25</td>\n",
       "      <td>9600</td>\n",
       "      <td>MORTGAGE</td>\n",
       "      <td>1.0</td>\n",
       "      <td>MEDICAL</td>\n",
       "      <td>C</td>\n",
       "      <td>5500</td>\n",
       "      <td>12.87</td>\n",
       "      <td>1</td>\n",
       "      <td>0.57</td>\n",
       "      <td>N</td>\n",
       "      <td>3</td>\n",
       "    </tr>\n",
       "    <tr>\n",
       "      <th>3</th>\n",
       "      <td>23</td>\n",
       "      <td>65500</td>\n",
       "      <td>RENT</td>\n",
       "      <td>4.0</td>\n",
       "      <td>MEDICAL</td>\n",
       "      <td>C</td>\n",
       "      <td>35000</td>\n",
       "      <td>15.23</td>\n",
       "      <td>1</td>\n",
       "      <td>0.53</td>\n",
       "      <td>N</td>\n",
       "      <td>2</td>\n",
       "    </tr>\n",
       "    <tr>\n",
       "      <th>4</th>\n",
       "      <td>24</td>\n",
       "      <td>54400</td>\n",
       "      <td>RENT</td>\n",
       "      <td>8.0</td>\n",
       "      <td>MEDICAL</td>\n",
       "      <td>C</td>\n",
       "      <td>35000</td>\n",
       "      <td>14.27</td>\n",
       "      <td>1</td>\n",
       "      <td>0.55</td>\n",
       "      <td>Y</td>\n",
       "      <td>4</td>\n",
       "    </tr>\n",
       "  </tbody>\n",
       "</table>\n",
       "</div>"
      ],
      "text/plain": [
       "   person_age  person_income person_home_ownership  person_emp_length  \\\n",
       "0          22          59000                  RENT              123.0   \n",
       "1          21           9600                   OWN                5.0   \n",
       "2          25           9600              MORTGAGE                1.0   \n",
       "3          23          65500                  RENT                4.0   \n",
       "4          24          54400                  RENT                8.0   \n",
       "\n",
       "  loan_intent loan_grade  loan_amnt  loan_int_rate  loan_status  \\\n",
       "0    PERSONAL          D      35000          16.02            1   \n",
       "1   EDUCATION          B       1000          11.14            0   \n",
       "2     MEDICAL          C       5500          12.87            1   \n",
       "3     MEDICAL          C      35000          15.23            1   \n",
       "4     MEDICAL          C      35000          14.27            1   \n",
       "\n",
       "   loan_percent_income cb_person_default_on_file  cb_person_cred_hist_length  \n",
       "0                 0.59                         Y                           3  \n",
       "1                 0.10                         N                           2  \n",
       "2                 0.57                         N                           3  \n",
       "3                 0.53                         N                           2  \n",
       "4                 0.55                         Y                           4  "
      ]
     },
     "execution_count": 3,
     "metadata": {},
     "output_type": "execute_result"
    }
   ],
   "source": [
    "df.head()"
   ]
  },
  {
   "cell_type": "code",
   "execution_count": 4,
   "metadata": {},
   "outputs": [],
   "source": [
    "df.columns = [ 'idade','renda_por_ano','tipo_moradia','tempo_de_emprego','objetivo_emprestimo',\n",
    "               'class_risco_historico','montante_emprestimo','taxa_juros','risco_emprestimo',\n",
    "               'porc_empr_renda_anual','inadimplencia_hist','qtd_anos_primeiro_emprestimo']"
   ]
  },
  {
   "cell_type": "code",
   "execution_count": 5,
   "metadata": {},
   "outputs": [],
   "source": [
    "df = df[['idade','tempo_de_emprego','tipo_moradia',\n",
    "         'objetivo_emprestimo','montante_emprestimo','taxa_juros',\n",
    "         'renda_por_ano','porc_empr_renda_anual','class_risco_historico','inadimplencia_hist',\n",
    "         'qtd_anos_primeiro_emprestimo','risco_emprestimo']]"
   ]
  },
  {
   "cell_type": "code",
   "execution_count": 6,
   "metadata": {},
   "outputs": [
    {
     "data": {
      "text/html": [
       "<div>\n",
       "<style scoped>\n",
       "    .dataframe tbody tr th:only-of-type {\n",
       "        vertical-align: middle;\n",
       "    }\n",
       "\n",
       "    .dataframe tbody tr th {\n",
       "        vertical-align: top;\n",
       "    }\n",
       "\n",
       "    .dataframe thead th {\n",
       "        text-align: right;\n",
       "    }\n",
       "</style>\n",
       "<table border=\"1\" class=\"dataframe\">\n",
       "  <thead>\n",
       "    <tr style=\"text-align: right;\">\n",
       "      <th></th>\n",
       "      <th>idade</th>\n",
       "      <th>tempo_de_emprego</th>\n",
       "      <th>tipo_moradia</th>\n",
       "      <th>objetivo_emprestimo</th>\n",
       "      <th>montante_emprestimo</th>\n",
       "      <th>taxa_juros</th>\n",
       "      <th>renda_por_ano</th>\n",
       "      <th>porc_empr_renda_anual</th>\n",
       "      <th>class_risco_historico</th>\n",
       "      <th>inadimplencia_hist</th>\n",
       "      <th>qtd_anos_primeiro_emprestimo</th>\n",
       "      <th>risco_emprestimo</th>\n",
       "    </tr>\n",
       "  </thead>\n",
       "  <tbody>\n",
       "    <tr>\n",
       "      <th>0</th>\n",
       "      <td>22</td>\n",
       "      <td>123.0</td>\n",
       "      <td>RENT</td>\n",
       "      <td>PERSONAL</td>\n",
       "      <td>35000</td>\n",
       "      <td>16.02</td>\n",
       "      <td>59000</td>\n",
       "      <td>0.59</td>\n",
       "      <td>D</td>\n",
       "      <td>Y</td>\n",
       "      <td>3</td>\n",
       "      <td>1</td>\n",
       "    </tr>\n",
       "    <tr>\n",
       "      <th>1</th>\n",
       "      <td>21</td>\n",
       "      <td>5.0</td>\n",
       "      <td>OWN</td>\n",
       "      <td>EDUCATION</td>\n",
       "      <td>1000</td>\n",
       "      <td>11.14</td>\n",
       "      <td>9600</td>\n",
       "      <td>0.10</td>\n",
       "      <td>B</td>\n",
       "      <td>N</td>\n",
       "      <td>2</td>\n",
       "      <td>0</td>\n",
       "    </tr>\n",
       "    <tr>\n",
       "      <th>2</th>\n",
       "      <td>25</td>\n",
       "      <td>1.0</td>\n",
       "      <td>MORTGAGE</td>\n",
       "      <td>MEDICAL</td>\n",
       "      <td>5500</td>\n",
       "      <td>12.87</td>\n",
       "      <td>9600</td>\n",
       "      <td>0.57</td>\n",
       "      <td>C</td>\n",
       "      <td>N</td>\n",
       "      <td>3</td>\n",
       "      <td>1</td>\n",
       "    </tr>\n",
       "    <tr>\n",
       "      <th>3</th>\n",
       "      <td>23</td>\n",
       "      <td>4.0</td>\n",
       "      <td>RENT</td>\n",
       "      <td>MEDICAL</td>\n",
       "      <td>35000</td>\n",
       "      <td>15.23</td>\n",
       "      <td>65500</td>\n",
       "      <td>0.53</td>\n",
       "      <td>C</td>\n",
       "      <td>N</td>\n",
       "      <td>2</td>\n",
       "      <td>1</td>\n",
       "    </tr>\n",
       "    <tr>\n",
       "      <th>4</th>\n",
       "      <td>24</td>\n",
       "      <td>8.0</td>\n",
       "      <td>RENT</td>\n",
       "      <td>MEDICAL</td>\n",
       "      <td>35000</td>\n",
       "      <td>14.27</td>\n",
       "      <td>54400</td>\n",
       "      <td>0.55</td>\n",
       "      <td>C</td>\n",
       "      <td>Y</td>\n",
       "      <td>4</td>\n",
       "      <td>1</td>\n",
       "    </tr>\n",
       "  </tbody>\n",
       "</table>\n",
       "</div>"
      ],
      "text/plain": [
       "   idade  tempo_de_emprego tipo_moradia objetivo_emprestimo  \\\n",
       "0     22             123.0         RENT            PERSONAL   \n",
       "1     21               5.0          OWN           EDUCATION   \n",
       "2     25               1.0     MORTGAGE             MEDICAL   \n",
       "3     23               4.0         RENT             MEDICAL   \n",
       "4     24               8.0         RENT             MEDICAL   \n",
       "\n",
       "   montante_emprestimo  taxa_juros  renda_por_ano  porc_empr_renda_anual  \\\n",
       "0                35000       16.02          59000                   0.59   \n",
       "1                 1000       11.14           9600                   0.10   \n",
       "2                 5500       12.87           9600                   0.57   \n",
       "3                35000       15.23          65500                   0.53   \n",
       "4                35000       14.27          54400                   0.55   \n",
       "\n",
       "  class_risco_historico inadimplencia_hist  qtd_anos_primeiro_emprestimo  \\\n",
       "0                     D                  Y                             3   \n",
       "1                     B                  N                             2   \n",
       "2                     C                  N                             3   \n",
       "3                     C                  N                             2   \n",
       "4                     C                  Y                             4   \n",
       "\n",
       "   risco_emprestimo  \n",
       "0                 1  \n",
       "1                 0  \n",
       "2                 1  \n",
       "3                 1  \n",
       "4                 1  "
      ]
     },
     "execution_count": 6,
     "metadata": {},
     "output_type": "execute_result"
    }
   ],
   "source": [
    "df.head()"
   ]
  },
  {
   "cell_type": "code",
   "execution_count": 7,
   "metadata": {},
   "outputs": [
    {
     "data": {
      "text/plain": [
       "(32581, 12)"
      ]
     },
     "execution_count": 7,
     "metadata": {},
     "output_type": "execute_result"
    }
   ],
   "source": [
    "df.shape"
   ]
  },
  {
   "cell_type": "code",
   "execution_count": 8,
   "metadata": {},
   "outputs": [
    {
     "data": {
      "text/plain": [
       "idade                              0\n",
       "tempo_de_emprego                 895\n",
       "tipo_moradia                       0\n",
       "objetivo_emprestimo                0\n",
       "montante_emprestimo                0\n",
       "taxa_juros                      3116\n",
       "renda_por_ano                      0\n",
       "porc_empr_renda_anual              0\n",
       "class_risco_historico              0\n",
       "inadimplencia_hist                 0\n",
       "qtd_anos_primeiro_emprestimo       0\n",
       "risco_emprestimo                   0\n",
       "dtype: int64"
      ]
     },
     "execution_count": 8,
     "metadata": {},
     "output_type": "execute_result"
    }
   ],
   "source": [
    "df.isnull().sum()"
   ]
  },
  {
   "cell_type": "markdown",
   "metadata": {},
   "source": [
    "# Tratando os dados"
   ]
  },
  {
   "cell_type": "markdown",
   "metadata": {},
   "source": [
    "- Tratando os dados das colunas **objetivo_emprestimo**,**tipo_moradia** e **inadimplencia_hist**"
   ]
  },
  {
   "cell_type": "code",
   "execution_count": 9,
   "metadata": {},
   "outputs": [],
   "source": [
    "objetivo = {'EDUCATION': \"educacao\", 'MEDICAL': \"saude\", 'VENTURE': \"risco\", \n",
    "            'PERSONAL': \"pessoal\", 'DEBTCONSOLIDATION': \"consolidacao_debito\" ,'HOMEIMPROVEMENT':'reformar_casa'}\n",
    "df['objetivo_emprestimo'] = df['objetivo_emprestimo'].map(objetivo)\n",
    "\n",
    "\n",
    "tipo_moradia = {'RENT': 'alugada', 'MORTGAGE': 'hipoteca', 'OWN': 'propria', 'OTHER': 'outro'  }\n",
    "df['tipo_moradia'] = df['tipo_moradia'].map(tipo_moradia)"
   ]
  },
  {
   "cell_type": "code",
   "execution_count": 10,
   "metadata": {},
   "outputs": [],
   "source": [
    "df['inadimplencia_hist'] = df['inadimplencia_hist'].apply(lambda x:  1 if x =='Y' else 0)"
   ]
  },
  {
   "cell_type": "code",
   "execution_count": 11,
   "metadata": {},
   "outputs": [
    {
     "data": {
      "text/html": [
       "<div>\n",
       "<style scoped>\n",
       "    .dataframe tbody tr th:only-of-type {\n",
       "        vertical-align: middle;\n",
       "    }\n",
       "\n",
       "    .dataframe tbody tr th {\n",
       "        vertical-align: top;\n",
       "    }\n",
       "\n",
       "    .dataframe thead th {\n",
       "        text-align: right;\n",
       "    }\n",
       "</style>\n",
       "<table border=\"1\" class=\"dataframe\">\n",
       "  <thead>\n",
       "    <tr style=\"text-align: right;\">\n",
       "      <th></th>\n",
       "      <th>idade</th>\n",
       "      <th>tempo_de_emprego</th>\n",
       "      <th>tipo_moradia</th>\n",
       "      <th>objetivo_emprestimo</th>\n",
       "      <th>montante_emprestimo</th>\n",
       "      <th>taxa_juros</th>\n",
       "      <th>renda_por_ano</th>\n",
       "      <th>porc_empr_renda_anual</th>\n",
       "      <th>class_risco_historico</th>\n",
       "      <th>inadimplencia_hist</th>\n",
       "      <th>qtd_anos_primeiro_emprestimo</th>\n",
       "      <th>risco_emprestimo</th>\n",
       "    </tr>\n",
       "  </thead>\n",
       "  <tbody>\n",
       "    <tr>\n",
       "      <th>0</th>\n",
       "      <td>22</td>\n",
       "      <td>123.0</td>\n",
       "      <td>alugada</td>\n",
       "      <td>pessoal</td>\n",
       "      <td>35000</td>\n",
       "      <td>16.02</td>\n",
       "      <td>59000</td>\n",
       "      <td>0.59</td>\n",
       "      <td>D</td>\n",
       "      <td>1</td>\n",
       "      <td>3</td>\n",
       "      <td>1</td>\n",
       "    </tr>\n",
       "    <tr>\n",
       "      <th>1</th>\n",
       "      <td>21</td>\n",
       "      <td>5.0</td>\n",
       "      <td>propria</td>\n",
       "      <td>educacao</td>\n",
       "      <td>1000</td>\n",
       "      <td>11.14</td>\n",
       "      <td>9600</td>\n",
       "      <td>0.10</td>\n",
       "      <td>B</td>\n",
       "      <td>0</td>\n",
       "      <td>2</td>\n",
       "      <td>0</td>\n",
       "    </tr>\n",
       "    <tr>\n",
       "      <th>2</th>\n",
       "      <td>25</td>\n",
       "      <td>1.0</td>\n",
       "      <td>hipoteca</td>\n",
       "      <td>saude</td>\n",
       "      <td>5500</td>\n",
       "      <td>12.87</td>\n",
       "      <td>9600</td>\n",
       "      <td>0.57</td>\n",
       "      <td>C</td>\n",
       "      <td>0</td>\n",
       "      <td>3</td>\n",
       "      <td>1</td>\n",
       "    </tr>\n",
       "    <tr>\n",
       "      <th>3</th>\n",
       "      <td>23</td>\n",
       "      <td>4.0</td>\n",
       "      <td>alugada</td>\n",
       "      <td>saude</td>\n",
       "      <td>35000</td>\n",
       "      <td>15.23</td>\n",
       "      <td>65500</td>\n",
       "      <td>0.53</td>\n",
       "      <td>C</td>\n",
       "      <td>0</td>\n",
       "      <td>2</td>\n",
       "      <td>1</td>\n",
       "    </tr>\n",
       "    <tr>\n",
       "      <th>4</th>\n",
       "      <td>24</td>\n",
       "      <td>8.0</td>\n",
       "      <td>alugada</td>\n",
       "      <td>saude</td>\n",
       "      <td>35000</td>\n",
       "      <td>14.27</td>\n",
       "      <td>54400</td>\n",
       "      <td>0.55</td>\n",
       "      <td>C</td>\n",
       "      <td>1</td>\n",
       "      <td>4</td>\n",
       "      <td>1</td>\n",
       "    </tr>\n",
       "  </tbody>\n",
       "</table>\n",
       "</div>"
      ],
      "text/plain": [
       "   idade  tempo_de_emprego tipo_moradia objetivo_emprestimo  \\\n",
       "0     22             123.0      alugada             pessoal   \n",
       "1     21               5.0      propria            educacao   \n",
       "2     25               1.0     hipoteca               saude   \n",
       "3     23               4.0      alugada               saude   \n",
       "4     24               8.0      alugada               saude   \n",
       "\n",
       "   montante_emprestimo  taxa_juros  renda_por_ano  porc_empr_renda_anual  \\\n",
       "0                35000       16.02          59000                   0.59   \n",
       "1                 1000       11.14           9600                   0.10   \n",
       "2                 5500       12.87           9600                   0.57   \n",
       "3                35000       15.23          65500                   0.53   \n",
       "4                35000       14.27          54400                   0.55   \n",
       "\n",
       "  class_risco_historico  inadimplencia_hist  qtd_anos_primeiro_emprestimo  \\\n",
       "0                     D                   1                             3   \n",
       "1                     B                   0                             2   \n",
       "2                     C                   0                             3   \n",
       "3                     C                   0                             2   \n",
       "4                     C                   1                             4   \n",
       "\n",
       "   risco_emprestimo  \n",
       "0                 1  \n",
       "1                 0  \n",
       "2                 1  \n",
       "3                 1  \n",
       "4                 1  "
      ]
     },
     "execution_count": 11,
     "metadata": {},
     "output_type": "execute_result"
    }
   ],
   "source": [
    "df.head()"
   ]
  },
  {
   "cell_type": "markdown",
   "metadata": {},
   "source": [
    "- Verificando dados inconsistentes."
   ]
  },
  {
   "cell_type": "code",
   "execution_count": 12,
   "metadata": {},
   "outputs": [
    {
     "data": {
      "text/html": [
       "<div>\n",
       "<style scoped>\n",
       "    .dataframe tbody tr th:only-of-type {\n",
       "        vertical-align: middle;\n",
       "    }\n",
       "\n",
       "    .dataframe tbody tr th {\n",
       "        vertical-align: top;\n",
       "    }\n",
       "\n",
       "    .dataframe thead th {\n",
       "        text-align: right;\n",
       "    }\n",
       "</style>\n",
       "<table border=\"1\" class=\"dataframe\">\n",
       "  <thead>\n",
       "    <tr style=\"text-align: right;\">\n",
       "      <th></th>\n",
       "      <th>count</th>\n",
       "      <th>mean</th>\n",
       "      <th>std</th>\n",
       "      <th>min</th>\n",
       "      <th>25%</th>\n",
       "      <th>50%</th>\n",
       "      <th>75%</th>\n",
       "      <th>max</th>\n",
       "    </tr>\n",
       "  </thead>\n",
       "  <tbody>\n",
       "    <tr>\n",
       "      <th>idade</th>\n",
       "      <td>32581.0</td>\n",
       "      <td>27.734600</td>\n",
       "      <td>6.348078</td>\n",
       "      <td>20.00</td>\n",
       "      <td>23.00</td>\n",
       "      <td>26.00</td>\n",
       "      <td>30.00</td>\n",
       "      <td>144.00</td>\n",
       "    </tr>\n",
       "    <tr>\n",
       "      <th>tempo_de_emprego</th>\n",
       "      <td>31686.0</td>\n",
       "      <td>4.789686</td>\n",
       "      <td>4.142630</td>\n",
       "      <td>0.00</td>\n",
       "      <td>2.00</td>\n",
       "      <td>4.00</td>\n",
       "      <td>7.00</td>\n",
       "      <td>123.00</td>\n",
       "    </tr>\n",
       "    <tr>\n",
       "      <th>montante_emprestimo</th>\n",
       "      <td>32581.0</td>\n",
       "      <td>9589.371106</td>\n",
       "      <td>6322.086646</td>\n",
       "      <td>500.00</td>\n",
       "      <td>5000.00</td>\n",
       "      <td>8000.00</td>\n",
       "      <td>12200.00</td>\n",
       "      <td>35000.00</td>\n",
       "    </tr>\n",
       "    <tr>\n",
       "      <th>taxa_juros</th>\n",
       "      <td>29465.0</td>\n",
       "      <td>11.011695</td>\n",
       "      <td>3.240459</td>\n",
       "      <td>5.42</td>\n",
       "      <td>7.90</td>\n",
       "      <td>10.99</td>\n",
       "      <td>13.47</td>\n",
       "      <td>23.22</td>\n",
       "    </tr>\n",
       "    <tr>\n",
       "      <th>renda_por_ano</th>\n",
       "      <td>32581.0</td>\n",
       "      <td>66074.848470</td>\n",
       "      <td>61983.119168</td>\n",
       "      <td>4000.00</td>\n",
       "      <td>38500.00</td>\n",
       "      <td>55000.00</td>\n",
       "      <td>79200.00</td>\n",
       "      <td>6000000.00</td>\n",
       "    </tr>\n",
       "    <tr>\n",
       "      <th>porc_empr_renda_anual</th>\n",
       "      <td>32581.0</td>\n",
       "      <td>0.170203</td>\n",
       "      <td>0.106782</td>\n",
       "      <td>0.00</td>\n",
       "      <td>0.09</td>\n",
       "      <td>0.15</td>\n",
       "      <td>0.23</td>\n",
       "      <td>0.83</td>\n",
       "    </tr>\n",
       "    <tr>\n",
       "      <th>inadimplencia_hist</th>\n",
       "      <td>32581.0</td>\n",
       "      <td>0.176330</td>\n",
       "      <td>0.381106</td>\n",
       "      <td>0.00</td>\n",
       "      <td>0.00</td>\n",
       "      <td>0.00</td>\n",
       "      <td>0.00</td>\n",
       "      <td>1.00</td>\n",
       "    </tr>\n",
       "    <tr>\n",
       "      <th>qtd_anos_primeiro_emprestimo</th>\n",
       "      <td>32581.0</td>\n",
       "      <td>5.804211</td>\n",
       "      <td>4.055001</td>\n",
       "      <td>2.00</td>\n",
       "      <td>3.00</td>\n",
       "      <td>4.00</td>\n",
       "      <td>8.00</td>\n",
       "      <td>30.00</td>\n",
       "    </tr>\n",
       "    <tr>\n",
       "      <th>risco_emprestimo</th>\n",
       "      <td>32581.0</td>\n",
       "      <td>0.218164</td>\n",
       "      <td>0.413006</td>\n",
       "      <td>0.00</td>\n",
       "      <td>0.00</td>\n",
       "      <td>0.00</td>\n",
       "      <td>0.00</td>\n",
       "      <td>1.00</td>\n",
       "    </tr>\n",
       "  </tbody>\n",
       "</table>\n",
       "</div>"
      ],
      "text/plain": [
       "                                count          mean           std      min  \\\n",
       "idade                         32581.0     27.734600      6.348078    20.00   \n",
       "tempo_de_emprego              31686.0      4.789686      4.142630     0.00   \n",
       "montante_emprestimo           32581.0   9589.371106   6322.086646   500.00   \n",
       "taxa_juros                    29465.0     11.011695      3.240459     5.42   \n",
       "renda_por_ano                 32581.0  66074.848470  61983.119168  4000.00   \n",
       "porc_empr_renda_anual         32581.0      0.170203      0.106782     0.00   \n",
       "inadimplencia_hist            32581.0      0.176330      0.381106     0.00   \n",
       "qtd_anos_primeiro_emprestimo  32581.0      5.804211      4.055001     2.00   \n",
       "risco_emprestimo              32581.0      0.218164      0.413006     0.00   \n",
       "\n",
       "                                   25%       50%       75%         max  \n",
       "idade                            23.00     26.00     30.00      144.00  \n",
       "tempo_de_emprego                  2.00      4.00      7.00      123.00  \n",
       "montante_emprestimo            5000.00   8000.00  12200.00    35000.00  \n",
       "taxa_juros                        7.90     10.99     13.47       23.22  \n",
       "renda_por_ano                 38500.00  55000.00  79200.00  6000000.00  \n",
       "porc_empr_renda_anual             0.09      0.15      0.23        0.83  \n",
       "inadimplencia_hist                0.00      0.00      0.00        1.00  \n",
       "qtd_anos_primeiro_emprestimo      3.00      4.00      8.00       30.00  \n",
       "risco_emprestimo                  0.00      0.00      0.00        1.00  "
      ]
     },
     "execution_count": 12,
     "metadata": {},
     "output_type": "execute_result"
    }
   ],
   "source": [
    "df.describe().T"
   ]
  },
  {
   "cell_type": "markdown",
   "metadata": {},
   "source": [
    "- Tratando os dados inconsistentes das colunas **idade** e **tempo_de_emprego**."
   ]
  },
  {
   "cell_type": "code",
   "execution_count": 13,
   "metadata": {},
   "outputs": [],
   "source": [
    "df = df.query('idade <= 90 and tempo_de_emprego <= 40')"
   ]
  },
  {
   "cell_type": "markdown",
   "metadata": {},
   "source": [
    "- Tratando os dados ausentes."
   ]
  },
  {
   "cell_type": "code",
   "execution_count": 14,
   "metadata": {},
   "outputs": [
    {
     "data": {
      "text/plain": [
       "idade                              0\n",
       "tempo_de_emprego                   0\n",
       "tipo_moradia                       0\n",
       "objetivo_emprestimo                0\n",
       "montante_emprestimo                0\n",
       "taxa_juros                      3046\n",
       "renda_por_ano                      0\n",
       "porc_empr_renda_anual              0\n",
       "class_risco_historico              0\n",
       "inadimplencia_hist                 0\n",
       "qtd_anos_primeiro_emprestimo       0\n",
       "risco_emprestimo                   0\n",
       "dtype: int64"
      ]
     },
     "execution_count": 14,
     "metadata": {},
     "output_type": "execute_result"
    }
   ],
   "source": [
    "df.isnull().sum()"
   ]
  },
  {
   "cell_type": "code",
   "execution_count": 15,
   "metadata": {},
   "outputs": [],
   "source": [
    "df['taxa_juros'] = df['taxa_juros'].fillna(df.taxa_juros.mean())"
   ]
  },
  {
   "cell_type": "code",
   "execution_count": 16,
   "metadata": {},
   "outputs": [
    {
     "data": {
      "text/plain": [
       "idade                           0\n",
       "tempo_de_emprego                0\n",
       "tipo_moradia                    0\n",
       "objetivo_emprestimo             0\n",
       "montante_emprestimo             0\n",
       "taxa_juros                      0\n",
       "renda_por_ano                   0\n",
       "porc_empr_renda_anual           0\n",
       "class_risco_historico           0\n",
       "inadimplencia_hist              0\n",
       "qtd_anos_primeiro_emprestimo    0\n",
       "risco_emprestimo                0\n",
       "dtype: int64"
      ]
     },
     "execution_count": 16,
     "metadata": {},
     "output_type": "execute_result"
    }
   ],
   "source": [
    "df.isnull().sum()"
   ]
  },
  {
   "cell_type": "markdown",
   "metadata": {},
   "source": [
    "# EDA"
   ]
  },
  {
   "cell_type": "code",
   "execution_count": 17,
   "metadata": {},
   "outputs": [
    {
     "data": {
      "text/plain": [
       "<matplotlib.legend.Legend at 0x209ccd7ca00>"
      ]
     },
     "execution_count": 17,
     "metadata": {},
     "output_type": "execute_result"
    },
    {
     "data": {
      "image/png": "[encoded data removed]",
      "text/plain": [
       "<Figure size 1080x1080 with 2 Axes>"
      ]
     },
     "metadata": {
      "needs_background": "light"
     },
     "output_type": "display_data"
    }
   ],
   "source": [
    "fig, ax = plt.subplots(2,1, figsize=(15,15))\n",
    "sns.countplot(x='idade',hue='risco_emprestimo',data=df, ax=ax[0])\n",
    "ax[0].set_title('Idade X Risco de empréstimo',fontsize=15)\n",
    "ax[0].legend(loc=1)\n",
    "\n",
    "sns.countplot(x='idade',hue='tipo_moradia',data=df[df['risco_emprestimo']==1], ax=ax[1])\n",
    "ax[1].set_title('Risco X Idade X Tipo de moradia',fontsize=15)\n",
    "ax[1].legend(loc=1)"
   ]
  },
  {
   "cell_type": "code",
   "execution_count": 18,
   "metadata": {},
   "outputs": [
    {
     "data": {
      "text/plain": [
       "<matplotlib.legend.Legend at 0x209cceb9850>"
      ]
     },
     "execution_count": 18,
     "metadata": {},
     "output_type": "execute_result"
    },
    {
     "data": {
      "image/png": "[encoded data removed]",
      "text/plain": [
       "<Figure size 1080x576 with 1 Axes>"
      ]
     },
     "metadata": {
      "needs_background": "light"
     },
     "output_type": "display_data"
    }
   ],
   "source": [
    "plt.figure(figsize=(15,8))\n",
    "sns.countplot(x='idade',hue='inadimplencia_hist',data=df[df['risco_emprestimo']==1])\n",
    "plt.title('Risco X Idade X Histórico de inadimplência')\n",
    "plt.legend(loc=1)"
   ]
  },
  {
   "cell_type": "code",
   "execution_count": 19,
   "metadata": {},
   "outputs": [
    {
     "data": {
      "text/plain": [
       "<matplotlib.legend.Legend at 0x209cdaf9430>"
      ]
     },
     "execution_count": 19,
     "metadata": {},
     "output_type": "execute_result"
    },
    {
     "data": {
      "image/png": "[encoded data removed]",
      "text/plain": [
       "<Figure size 1080x576 with 1 Axes>"
      ]
     },
     "metadata": {
      "needs_background": "light"
     },
     "output_type": "display_data"
    }
   ],
   "source": [
    "plt.figure(figsize=(15,8))\n",
    "sns.countplot(x='tipo_moradia',hue='inadimplencia_hist',data=df[df['risco_emprestimo']==1])\n",
    "plt.title('Risco X Tipo de moradia X Histórico de inadimplência')\n",
    "plt.legend(loc=1)"
   ]
  },
  {
   "cell_type": "code",
   "execution_count": 20,
   "metadata": {},
   "outputs": [
    {
     "data": {
      "text/plain": [
       "<matplotlib.legend.Legend at 0x209cdb81a60>"
      ]
     },
     "execution_count": 20,
     "metadata": {},
     "output_type": "execute_result"
    },
    {
     "data": {
      "image/png": "[encoded data removed]",
      "text/plain": [
       "<Figure size 1080x576 with 1 Axes>"
      ]
     },
     "metadata": {
      "needs_background": "light"
     },
     "output_type": "display_data"
    }
   ],
   "source": [
    "plt.figure(figsize=(15,8))\n",
    "sns.countplot(x='tipo_moradia',hue='class_risco_historico',data=df[df['risco_emprestimo']==1])\n",
    "plt.title('Risco X Tipo de moradia X Classificação risco ')\n",
    "plt.legend(loc=1)"
   ]
  },
  {
   "cell_type": "code",
   "execution_count": 21,
   "metadata": {},
   "outputs": [
    {
     "name": "stderr",
     "output_type": "stream",
     "text": [
      "No handles with labels found to put in legend.\n"
     ]
    },
    {
     "data": {
      "text/plain": [
       "<matplotlib.legend.Legend at 0x209ce418dc0>"
      ]
     },
     "execution_count": 21,
     "metadata": {},
     "output_type": "execute_result"
    },
    {
     "data": {
      "image/png": "[encoded data removed]",
      "text/plain": [
       "<Figure size 1080x576 with 1 Axes>"
      ]
     },
     "metadata": {
      "needs_background": "light"
     },
     "output_type": "display_data"
    }
   ],
   "source": [
    "plt.figure(figsize=(15,8))\n",
    "sns.countplot(x='objetivo_emprestimo',data=df[df['risco_emprestimo']==1])\n",
    "plt.title('Risco X Objetivo do empréstimo ')\n",
    "plt.legend(loc=1)"
   ]
  },
  {
   "cell_type": "markdown",
   "metadata": {},
   "source": [
    "# 4 - Machine learning"
   ]
  },
  {
   "cell_type": "markdown",
   "metadata": {},
   "source": [
    " - Pre-processamento dos dados"
   ]
  },
  {
   "cell_type": "code",
   "execution_count": 22,
   "metadata": {},
   "outputs": [],
   "source": [
    "from sklearn.preprocessing import LabelEncoder"
   ]
  },
  {
   "cell_type": "code",
   "execution_count": 23,
   "metadata": {},
   "outputs": [],
   "source": [
    "encoder = LabelEncoder()"
   ]
  },
  {
   "cell_type": "code",
   "execution_count": 24,
   "metadata": {},
   "outputs": [],
   "source": [
    "df['tipo_moradia_id']  = encoder.fit_transform(df['tipo_moradia'])\n",
    "df['objetivo_emprestimo_id']  = encoder.fit_transform(df['objetivo_emprestimo'])\n",
    "df['class_risco_historico_id']  = encoder.fit_transform(df['class_risco_historico'])"
   ]
  },
  {
   "cell_type": "code",
   "execution_count": 25,
   "metadata": {},
   "outputs": [
    {
     "data": {
      "text/html": [
       "<div>\n",
       "<style scoped>\n",
       "    .dataframe tbody tr th:only-of-type {\n",
       "        vertical-align: middle;\n",
       "    }\n",
       "\n",
       "    .dataframe tbody tr th {\n",
       "        vertical-align: top;\n",
       "    }\n",
       "\n",
       "    .dataframe thead th {\n",
       "        text-align: right;\n",
       "    }\n",
       "</style>\n",
       "<table border=\"1\" class=\"dataframe\">\n",
       "  <thead>\n",
       "    <tr style=\"text-align: right;\">\n",
       "      <th></th>\n",
       "      <th>idade</th>\n",
       "      <th>tempo_de_emprego</th>\n",
       "      <th>tipo_moradia</th>\n",
       "      <th>objetivo_emprestimo</th>\n",
       "      <th>montante_emprestimo</th>\n",
       "      <th>taxa_juros</th>\n",
       "      <th>renda_por_ano</th>\n",
       "      <th>porc_empr_renda_anual</th>\n",
       "      <th>class_risco_historico</th>\n",
       "      <th>inadimplencia_hist</th>\n",
       "      <th>qtd_anos_primeiro_emprestimo</th>\n",
       "      <th>risco_emprestimo</th>\n",
       "      <th>tipo_moradia_id</th>\n",
       "      <th>objetivo_emprestimo_id</th>\n",
       "      <th>class_risco_historico_id</th>\n",
       "    </tr>\n",
       "  </thead>\n",
       "  <tbody>\n",
       "    <tr>\n",
       "      <th>1</th>\n",
       "      <td>21</td>\n",
       "      <td>5.0</td>\n",
       "      <td>propria</td>\n",
       "      <td>educacao</td>\n",
       "      <td>1000</td>\n",
       "      <td>11.14</td>\n",
       "      <td>9600</td>\n",
       "      <td>0.10</td>\n",
       "      <td>B</td>\n",
       "      <td>0</td>\n",
       "      <td>2</td>\n",
       "      <td>0</td>\n",
       "      <td>3</td>\n",
       "      <td>1</td>\n",
       "      <td>1</td>\n",
       "    </tr>\n",
       "    <tr>\n",
       "      <th>2</th>\n",
       "      <td>25</td>\n",
       "      <td>1.0</td>\n",
       "      <td>hipoteca</td>\n",
       "      <td>saude</td>\n",
       "      <td>5500</td>\n",
       "      <td>12.87</td>\n",
       "      <td>9600</td>\n",
       "      <td>0.57</td>\n",
       "      <td>C</td>\n",
       "      <td>0</td>\n",
       "      <td>3</td>\n",
       "      <td>1</td>\n",
       "      <td>1</td>\n",
       "      <td>5</td>\n",
       "      <td>2</td>\n",
       "    </tr>\n",
       "    <tr>\n",
       "      <th>3</th>\n",
       "      <td>23</td>\n",
       "      <td>4.0</td>\n",
       "      <td>alugada</td>\n",
       "      <td>saude</td>\n",
       "      <td>35000</td>\n",
       "      <td>15.23</td>\n",
       "      <td>65500</td>\n",
       "      <td>0.53</td>\n",
       "      <td>C</td>\n",
       "      <td>0</td>\n",
       "      <td>2</td>\n",
       "      <td>1</td>\n",
       "      <td>0</td>\n",
       "      <td>5</td>\n",
       "      <td>2</td>\n",
       "    </tr>\n",
       "    <tr>\n",
       "      <th>4</th>\n",
       "      <td>24</td>\n",
       "      <td>8.0</td>\n",
       "      <td>alugada</td>\n",
       "      <td>saude</td>\n",
       "      <td>35000</td>\n",
       "      <td>14.27</td>\n",
       "      <td>54400</td>\n",
       "      <td>0.55</td>\n",
       "      <td>C</td>\n",
       "      <td>1</td>\n",
       "      <td>4</td>\n",
       "      <td>1</td>\n",
       "      <td>0</td>\n",
       "      <td>5</td>\n",
       "      <td>2</td>\n",
       "    </tr>\n",
       "    <tr>\n",
       "      <th>5</th>\n",
       "      <td>21</td>\n",
       "      <td>2.0</td>\n",
       "      <td>propria</td>\n",
       "      <td>risco</td>\n",
       "      <td>2500</td>\n",
       "      <td>7.14</td>\n",
       "      <td>9900</td>\n",
       "      <td>0.25</td>\n",
       "      <td>A</td>\n",
       "      <td>0</td>\n",
       "      <td>2</td>\n",
       "      <td>1</td>\n",
       "      <td>3</td>\n",
       "      <td>4</td>\n",
       "      <td>0</td>\n",
       "    </tr>\n",
       "  </tbody>\n",
       "</table>\n",
       "</div>"
      ],
      "text/plain": [
       "   idade  tempo_de_emprego tipo_moradia objetivo_emprestimo  \\\n",
       "1     21               5.0      propria            educacao   \n",
       "2     25               1.0     hipoteca               saude   \n",
       "3     23               4.0      alugada               saude   \n",
       "4     24               8.0      alugada               saude   \n",
       "5     21               2.0      propria               risco   \n",
       "\n",
       "   montante_emprestimo  taxa_juros  renda_por_ano  porc_empr_renda_anual  \\\n",
       "1                 1000       11.14           9600                   0.10   \n",
       "2                 5500       12.87           9600                   0.57   \n",
       "3                35000       15.23          65500                   0.53   \n",
       "4                35000       14.27          54400                   0.55   \n",
       "5                 2500        7.14           9900                   0.25   \n",
       "\n",
       "  class_risco_historico  inadimplencia_hist  qtd_anos_primeiro_emprestimo  \\\n",
       "1                     B                   0                             2   \n",
       "2                     C                   0                             3   \n",
       "3                     C                   0                             2   \n",
       "4                     C                   1                             4   \n",
       "5                     A                   0                             2   \n",
       "\n",
       "   risco_emprestimo  tipo_moradia_id  objetivo_emprestimo_id  \\\n",
       "1                 0                3                       1   \n",
       "2                 1                1                       5   \n",
       "3                 1                0                       5   \n",
       "4                 1                0                       5   \n",
       "5                 1                3                       4   \n",
       "\n",
       "   class_risco_historico_id  \n",
       "1                         1  \n",
       "2                         2  \n",
       "3                         2  \n",
       "4                         2  \n",
       "5                         0  "
      ]
     },
     "execution_count": 25,
     "metadata": {},
     "output_type": "execute_result"
    }
   ],
   "source": [
    "df.head()"
   ]
  },
  {
   "cell_type": "code",
   "execution_count": 26,
   "metadata": {},
   "outputs": [
    {
     "data": {
      "text/plain": [
       "<matplotlib.axes._subplots.AxesSubplot at 0x209ccb8a2b0>"
      ]
     },
     "execution_count": 26,
     "metadata": {},
     "output_type": "execute_result"
    },
    {
     "data": {
      "image/png": "[encoded data removed]",
      "text/plain": [
       "<Figure size 1440x1080 with 2 Axes>"
      ]
     },
     "metadata": {
      "needs_background": "light"
     },
     "output_type": "display_data"
    }
   ],
   "source": [
    "plt.figure(figsize=(20,15))\n",
    "corr = df.corr().abs()\n",
    "mask = np.triu(np.ones_like(corr, dtype=np.bool))\n",
    "\n",
    "sns.heatmap(corr, mask=mask, annot=True, center=0, cmap='YlGnBu')"
   ]
  },
  {
   "cell_type": "code",
   "execution_count": 27,
   "metadata": {},
   "outputs": [
    {
     "data": {
      "image/png": "[encoded data removed]",
      "text/plain": [
       "<Figure size 1152x792 with 12 Axes>"
      ]
     },
     "metadata": {
      "needs_background": "light"
     },
     "output_type": "display_data"
    }
   ],
   "source": [
    "df.hist(figsize=(16,11))\n",
    "plt.show()"
   ]
  },
  {
   "cell_type": "markdown",
   "metadata": {},
   "source": [
    " - relação entre a renda anual, com a porcentagem da renda\n",
    " - relação entre o montante do empréstimo\n"
   ]
  },
  {
   "cell_type": "markdown",
   "metadata": {},
   "source": [
    "- Divisao treino e teste"
   ]
  },
  {
   "cell_type": "code",
   "execution_count": 49,
   "metadata": {},
   "outputs": [],
   "source": [
    "dados_ml = df.drop(columns = ['tipo_moradia','objetivo_emprestimo','class_risco_historico'],axis=1)"
   ]
  },
  {
   "cell_type": "code",
   "execution_count": 79,
   "metadata": {},
   "outputs": [],
   "source": [
    "from sklearn.ensemble import ExtraTreesClassifier\n",
    "\n",
    "clf = ExtraTreesClassifier()\n",
    "\n",
    "_ = clf.fit(X,Y)\n",
    "\n",
    "features = pd.DataFrame()\n",
    "features['feature'] = X.columns\n",
    "features['importancia'] = clf.feature_importances_\n",
    "\n",
    "# features[ features.importancia > np.mean(features.importancia)].sort_values(by='importancia',ascending=False)"
   ]
  },
  {
   "cell_type": "code",
   "execution_count": 80,
   "metadata": {},
   "outputs": [
    {
     "data": {
      "text/html": [
       "<div>\n",
       "<style scoped>\n",
       "    .dataframe tbody tr th:only-of-type {\n",
       "        vertical-align: middle;\n",
       "    }\n",
       "\n",
       "    .dataframe tbody tr th {\n",
       "        vertical-align: top;\n",
       "    }\n",
       "\n",
       "    .dataframe thead th {\n",
       "        text-align: right;\n",
       "    }\n",
       "</style>\n",
       "<table border=\"1\" class=\"dataframe\">\n",
       "  <thead>\n",
       "    <tr style=\"text-align: right;\">\n",
       "      <th></th>\n",
       "      <th>feature</th>\n",
       "      <th>importancia</th>\n",
       "    </tr>\n",
       "  </thead>\n",
       "  <tbody>\n",
       "    <tr>\n",
       "      <th>5</th>\n",
       "      <td>porc_empr_renda_anual</td>\n",
       "      <td>0.222002</td>\n",
       "    </tr>\n",
       "    <tr>\n",
       "      <th>10</th>\n",
       "      <td>class_risco_historico_id</td>\n",
       "      <td>0.126360</td>\n",
       "    </tr>\n",
       "    <tr>\n",
       "      <th>4</th>\n",
       "      <td>renda_por_ano</td>\n",
       "      <td>0.112760</td>\n",
       "    </tr>\n",
       "    <tr>\n",
       "      <th>3</th>\n",
       "      <td>taxa_juros</td>\n",
       "      <td>0.109734</td>\n",
       "    </tr>\n",
       "    <tr>\n",
       "      <th>2</th>\n",
       "      <td>montante_emprestimo</td>\n",
       "      <td>0.083331</td>\n",
       "    </tr>\n",
       "    <tr>\n",
       "      <th>8</th>\n",
       "      <td>tipo_moradia_id</td>\n",
       "      <td>0.078212</td>\n",
       "    </tr>\n",
       "    <tr>\n",
       "      <th>9</th>\n",
       "      <td>objetivo_emprestimo_id</td>\n",
       "      <td>0.074997</td>\n",
       "    </tr>\n",
       "    <tr>\n",
       "      <th>1</th>\n",
       "      <td>tempo_de_emprego</td>\n",
       "      <td>0.072450</td>\n",
       "    </tr>\n",
       "    <tr>\n",
       "      <th>0</th>\n",
       "      <td>idade</td>\n",
       "      <td>0.055885</td>\n",
       "    </tr>\n",
       "    <tr>\n",
       "      <th>7</th>\n",
       "      <td>qtd_anos_primeiro_emprestimo</td>\n",
       "      <td>0.047882</td>\n",
       "    </tr>\n",
       "    <tr>\n",
       "      <th>6</th>\n",
       "      <td>inadimplencia_hist</td>\n",
       "      <td>0.016387</td>\n",
       "    </tr>\n",
       "  </tbody>\n",
       "</table>\n",
       "</div>"
      ],
      "text/plain": [
       "                         feature  importancia\n",
       "5          porc_empr_renda_anual     0.222002\n",
       "10      class_risco_historico_id     0.126360\n",
       "4                  renda_por_ano     0.112760\n",
       "3                     taxa_juros     0.109734\n",
       "2            montante_emprestimo     0.083331\n",
       "8                tipo_moradia_id     0.078212\n",
       "9         objetivo_emprestimo_id     0.074997\n",
       "1               tempo_de_emprego     0.072450\n",
       "0                          idade     0.055885\n",
       "7   qtd_anos_primeiro_emprestimo     0.047882\n",
       "6             inadimplencia_hist     0.016387"
      ]
     },
     "execution_count": 80,
     "metadata": {},
     "output_type": "execute_result"
    }
   ],
   "source": [
    "features.sort_values(by='importancia',ascending=False)"
   ]
  },
  {
   "cell_type": "code",
   "execution_count": 54,
   "metadata": {},
   "outputs": [],
   "source": [
    "X = dados_ml.drop('risco_emprestimo',axis=1)\n",
    "Y = dados_ml['risco_emprestimo']"
   ]
  },
  {
   "cell_type": "code",
   "execution_count": 55,
   "metadata": {},
   "outputs": [],
   "source": [
    "from sklearn.model_selection import train_test_split"
   ]
  },
  {
   "cell_type": "code",
   "execution_count": 56,
   "metadata": {},
   "outputs": [],
   "source": [
    "X_treino, X_teste, Y_treino, Y_teste = train_test_split(X,Y, test_size=0.2,stratify=Y)"
   ]
  },
  {
   "cell_type": "code",
   "execution_count": 47,
   "metadata": {},
   "outputs": [
    {
     "name": "stdout",
     "output_type": "stream",
     "text": [
      "LogisticRegression\n",
      "Treino: 0.8069926206542757\n",
      "Validation score 0.8067164137273425\n",
      "Teste: 0.8080808080808081\n",
      "ROC AUC\n",
      "Treino 0.7608193752829333\n",
      "Test 0.7549788774894387\n",
      "================================================================================\n",
      "GaussianNB\n",
      "Treino: 0.8261315654472988\n",
      "Validation score 0.825302638895009\n",
      "Teste: 0.8210227272727273\n",
      "ROC AUC\n",
      "Treino 0.7874318495414013\n",
      "Test 0.7721222651820118\n",
      "================================================================================\n",
      "DecisionTreeClassifier\n",
      "Treino: 1.0\n",
      "Validation score 0.8879284656273809\n",
      "Teste: 0.890625\n",
      "ROC AUC\n",
      "Treino 1.0\n",
      "Test 0.8431405448303457\n",
      "================================================================================\n",
      "RandomForestClassifier\n",
      "Treino: 0.9999605382581587\n",
      "Validation score 0.9329544161136691\n",
      "Teste: 0.9289772727272727\n",
      "ROC AUC\n",
      "Treino 1.0\n",
      "Test 0.9264191652242347\n",
      "================================================================================\n",
      "XGBClassifier\n",
      "Treino: 0.9321258040329901\n",
      "Validation score 0.9314549975920302\n",
      "Teste: 0.9277146464646465\n",
      "ROC AUC\n",
      "Treino 0.935223287350947\n",
      "Test 0.9220030757146025\n",
      "================================================================================\n"
     ]
    }
   ],
   "source": [
    "import warnings\n",
    "warnings.filterwarnings(\"ignore\")\n",
    "\n",
    "from sklearn.linear_model import LogisticRegression\n",
    "from sklearn.naive_bayes import GaussianNB\n",
    "from sklearn.tree import DecisionTreeClassifier\n",
    "from sklearn.ensemble import RandomForestClassifier\n",
    "from xgboost import XGBClassifier\n",
    "from sklearn.model_selection import cross_val_score\n",
    "\n",
    "lista_classificacores = [ LogisticRegression(),\n",
    "                         GaussianNB(),\n",
    "                         DecisionTreeClassifier(),\n",
    "                         RandomForestClassifier(),\n",
    "                         XGBClassifier()]\n",
    "\n",
    "\n",
    "for clf in lista_classificacores:\n",
    "  print(clf.__class__.__name__)\n",
    "  clf.fit(X_treino, Y_treino)\n",
    "  train_acc = clf.score(X_treino, Y_treino)\n",
    "  val_score = cross_val_score(clf, X_treino, Y_treino, cv=5)\n",
    "  test_acc = clf.score(X_teste, Y_teste)\n",
    "  print('Treino:', train_acc)\n",
    "  print('Validation score', val_score.mean())\n",
    "  print('Teste:', test_acc)\n",
    "\n",
    "  print('ROC AUC')\n",
    "\n",
    "  y_proba_treino = clf.predict_proba(X_treino)\n",
    "  roc_treino = roc_auc_score(Y_treino, y_proba_treino[:, 1])\n",
    "  print('Treino', roc_treino)\n",
    "\n",
    "  y_proba_teste = clf.predict_proba(X_teste)\n",
    "  roc_teste = roc_auc_score(Y_teste, y_proba_teste[:, 1])\n",
    "  print('Test', roc_teste)\n",
    "  print('='*80)"
   ]
  },
  {
   "cell_type": "code",
   "execution_count": 39,
   "metadata": {},
   "outputs": [
    {
     "name": "stdout",
     "output_type": "stream",
     "text": [
      "Collecting xgboost==0.81\n",
      "  Downloading xgboost-0.81-py2.py3-none-win_amd64.whl (7.4 MB)\n",
      "Requirement already satisfied: scipy in c:\\programdata\\anaconda3\\lib\\site-packages (from xgboost==0.81) (1.5.0)\n",
      "Requirement already satisfied: numpy in c:\\programdata\\anaconda3\\lib\\site-packages (from xgboost==0.81) (1.18.5)\n",
      "Installing collected packages: xgboost\n",
      "Successfully installed xgboost-0.81\n"
     ]
    }
   ],
   "source": [
    "!pip install xgboost==0.81"
   ]
  },
  {
   "cell_type": "code",
   "execution_count": 131,
   "metadata": {},
   "outputs": [],
   "source": [
    "clf = XGBClassifier(max_depth=15,n_estimators=250,seed=42)"
   ]
  },
  {
   "cell_type": "code",
   "execution_count": 132,
   "metadata": {},
   "outputs": [
    {
     "data": {
      "text/plain": [
       "XGBClassifier(max_depth=15, n_estimators=250, seed=42)"
      ]
     },
     "execution_count": 132,
     "metadata": {},
     "output_type": "execute_result"
    }
   ],
   "source": [
    "clf.fit(X_treino, Y_treino)"
   ]
  },
  {
   "cell_type": "code",
   "execution_count": 133,
   "metadata": {},
   "outputs": [
    {
     "name": "stdout",
     "output_type": "stream",
     "text": [
      "A acurácia do logisticregression foi 93.42%\n"
     ]
    }
   ],
   "source": [
    "y_pred = clf.predict(X_teste)\n",
    "acuracia = clf.score(X_teste, Y_teste) * 100\n",
    "\n",
    "print('A acurácia do XGBCLassifier foi %.2f%%' % acuracia)"
   ]
  },
  {
   "cell_type": "code",
   "execution_count": 134,
   "metadata": {},
   "outputs": [
    {
     "data": {
      "text/plain": [
       "Text(33.0, 0.5, 'Real ( 1 ou 0)')"
      ]
     },
     "execution_count": 134,
     "metadata": {},
     "output_type": "execute_result"
    },
    {
     "data": {
      "image/png": "[encoded data removed]",
      "text/plain": [
       "<Figure size 432x288 with 2 Axes>"
      ]
     },
     "metadata": {
      "needs_background": "light"
     },
     "output_type": "display_data"
    }
   ],
   "source": [
    "cm=confusion_matrix(Y_teste, y_pred)\n",
    "sns.heatmap(cm, annot=True, fmt='g')\n",
    "\n",
    "plt.xlabel('Predição( 1 ou 0)')\n",
    "plt.ylabel('Real ( 1 ou 0)')"
   ]
  },
  {
   "cell_type": "code",
   "execution_count": 135,
   "metadata": {},
   "outputs": [
    {
     "data": {
      "text/plain": [
       "0.9463654028530312"
      ]
     },
     "execution_count": 135,
     "metadata": {},
     "output_type": "execute_result"
    }
   ],
   "source": [
    "y_proba = clf.predict_proba(X_teste)[:,1]\n",
    "roc_auc = roc_auc_score(Y_teste, y_proba)\n",
    "roc_auc"
   ]
  },
  {
   "cell_type": "code",
   "execution_count": 158,
   "metadata": {},
   "outputs": [
    {
     "name": "stdout",
     "output_type": "stream",
     "text": [
      "              precision    recall  f1-score   support\n",
      "\n",
      "           0       0.93      0.99      0.96      4971\n",
      "           1       0.94      0.74      0.83      1365\n",
      "\n",
      "    accuracy                           0.93      6336\n",
      "   macro avg       0.94      0.86      0.89      6336\n",
      "weighted avg       0.93      0.93      0.93      6336\n",
      "\n"
     ]
    }
   ],
   "source": [
    "print(classification_report(Y_teste, y_proba>0.5))"
   ]
  },
  {
   "cell_type": "code",
   "execution_count": null,
   "metadata": {},
   "outputs": [],
   "source": []
  }
 ],
 "metadata": {
  "kernelspec": {
   "display_name": "Python 3",
   "language": "python",
   "name": "python3"
  },
  "language_info": {
   "codemirror_mode": {
    "name": "ipython",
    "version": 3
   },
   "file_extension": ".py",
   "mimetype": "text/x-python",
   "name": "python",
   "nbconvert_exporter": "python",
   "pygments_lexer": "ipython3",
   "version": "3.8.3"
  }
 },
 "nbformat": 4,
 "nbformat_minor": 4
}
